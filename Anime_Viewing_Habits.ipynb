{
  "nbformat": 4,
  "nbformat_minor": 0,
  "metadata": {
    "colab": {
      "provenance": []
    },
    "kernelspec": {
      "name": "python3",
      "display_name": "Python 3"
    },
    "language_info": {
      "name": "python"
    }
  },
  "cells": [
    {
      "cell_type": "code",
      "execution_count": null,
      "metadata": {
        "id": "mVGrnX2Hqra2"
      },
      "outputs": [],
      "source": [
        "%matplotlib inline\n",
        "import matplotlib.pyplot as plt\n",
        "import seaborn as sb\n",
        "\n",
        "import io\n",
        "import numpy as np\n",
        "import pandas as pd\n",
        "\n",
        "import scipy.stats as stats\n",
        "from scipy.stats import kendalltau, pearsonr, spearmanr\n",
        "import statsmodels.api as sm\n",
        "from statsmodels.formula.api import ols\n",
        "\n",
        "from datetime import datetime, date\n"
      ]
    },
    {
      "cell_type": "code",
      "source": [
        "from google.colab import files\n",
        "\n",
        "animeList = files.upload()"
      ],
      "metadata": {
        "colab": {
          "resources": {
            "http://localhost:8080/nbextensions/google.colab/files.js": {
              "data": "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",
              "ok": true,
              "headers": [
                [
                  "content-type",
                  "application/javascript"
                ]
              ],
              "status": 200,
              "status_text": ""
            }
          },
          "base_uri": "https://localhost:8080/",
          "height": 73
        },
        "id": "707wFEqK5Wqa",
        "outputId": "689005fb-cb58-40c3-b38e-4dcfee2ee528"
      },
      "execution_count": null,
      "outputs": [
        {
          "output_type": "display_data",
          "data": {
            "text/html": [
              "\n",
              "     <input type=\"file\" id=\"files-ba2496a6-3040-44c5-9845-eef0839086ff\" name=\"files[]\" multiple disabled\n",
              "        style=\"border:none\" />\n",
              "     <output id=\"result-ba2496a6-3040-44c5-9845-eef0839086ff\">\n",
              "      Upload widget is only available when the cell has been executed in the\n",
              "      current browser session. Please rerun this cell to enable.\n",
              "      </output>\n",
              "      <script src=\"/nbextensions/google.colab/files.js\"></script> "
            ],
            "text/plain": [
              "<IPython.core.display.HTML object>"
            ]
          },
          "metadata": {}
        },
        {
          "output_type": "stream",
          "name": "stdout",
          "text": [
            "Saving UserList.csv to UserList.csv\n"
          ]
        }
      ]
    },
    {
      "cell_type": "code",
      "source": [
        "df = pd.read_csv(io.BytesIO(animeList['UserList.csv']))"
      ],
      "metadata": {
        "id": "Nd6Uijo26QNO"
      },
      "execution_count": null,
      "outputs": []
    },
    {
      "cell_type": "markdown",
      "source": [
        "# Question\n",
        "## Do users who plan to watch lots of anime actually watch lots of anime? \n",
        "\n",
        "In the anime dataset we are going to look for an answer to what seems like an obvious question. Intuitively, there should be a pretty strong correlation between what a person wants to watch and how much they actually watch (in the context of a streaming service). If you are like me, when you see something you want to watch you'll add it to your library so you can come back and watch it later - why else add it to your library, right? \n",
        "\n",
        "So, this will be a good test to see if people are mostly window shoppers, who can't be bothered to watch the movies they want to see, or see if people have conviction by wholeheartedly watching what they want to watch. \n",
        "\n",
        "Since there is such a vast amount of data in this set, we should see a good result.  "
      ],
      "metadata": {
        "id": "EtNLuF8G8dDl"
      }
    },
    {
      "cell_type": "markdown",
      "source": [
        "Now, let's take a look."
      ],
      "metadata": {
        "id": "2b1sFM5kTF64"
      }
    },
    {
      "cell_type": "code",
      "source": [
        "df.head()"
      ],
      "metadata": {
        "colab": {
          "base_uri": "https://localhost:8080/",
          "height": 357
        },
        "id": "xz_JrMFaIITQ",
        "outputId": "4926db07-6e30-424a-d90c-5326cf4e5388"
      },
      "execution_count": null,
      "outputs": [
        {
          "output_type": "execute_result",
          "data": {
            "text/html": [
              "\n",
              "  <div id=\"df-84dc81de-75c0-4a7e-a0b8-121dbb8ff275\">\n",
              "    <div class=\"colab-df-container\">\n",
              "      <div>\n",
              "<style scoped>\n",
              "    .dataframe tbody tr th:only-of-type {\n",
              "        vertical-align: middle;\n",
              "    }\n",
              "\n",
              "    .dataframe tbody tr th {\n",
              "        vertical-align: top;\n",
              "    }\n",
              "\n",
              "    .dataframe thead th {\n",
              "        text-align: right;\n",
              "    }\n",
              "</style>\n",
              "<table border=\"1\" class=\"dataframe\">\n",
              "  <thead>\n",
              "    <tr style=\"text-align: right;\">\n",
              "      <th></th>\n",
              "      <th>username</th>\n",
              "      <th>user_id</th>\n",
              "      <th>user_watching</th>\n",
              "      <th>user_completed</th>\n",
              "      <th>user_onhold</th>\n",
              "      <th>user_dropped</th>\n",
              "      <th>user_plantowatch</th>\n",
              "      <th>user_days_spent_watching</th>\n",
              "      <th>gender</th>\n",
              "      <th>location</th>\n",
              "      <th>birth_date</th>\n",
              "      <th>access_rank</th>\n",
              "      <th>join_date</th>\n",
              "      <th>last_online</th>\n",
              "      <th>stats_mean_score</th>\n",
              "      <th>stats_rewatched</th>\n",
              "      <th>stats_episodes</th>\n",
              "    </tr>\n",
              "  </thead>\n",
              "  <tbody>\n",
              "    <tr>\n",
              "      <th>0</th>\n",
              "      <td>karthiga</td>\n",
              "      <td>2255153</td>\n",
              "      <td>3</td>\n",
              "      <td>49</td>\n",
              "      <td>1</td>\n",
              "      <td>0</td>\n",
              "      <td>0</td>\n",
              "      <td>55.31</td>\n",
              "      <td>Female</td>\n",
              "      <td>Chennai, India</td>\n",
              "      <td>1990-04-29</td>\n",
              "      <td>NaN</td>\n",
              "      <td>2013-03-03</td>\n",
              "      <td>2014-02-04 01:32:00</td>\n",
              "      <td>7.43</td>\n",
              "      <td>0.0</td>\n",
              "      <td>3391.0</td>\n",
              "    </tr>\n",
              "    <tr>\n",
              "      <th>1</th>\n",
              "      <td>RedvelvetDaisuki</td>\n",
              "      <td>1897606</td>\n",
              "      <td>61</td>\n",
              "      <td>396</td>\n",
              "      <td>39</td>\n",
              "      <td>0</td>\n",
              "      <td>206</td>\n",
              "      <td>118.07</td>\n",
              "      <td>Female</td>\n",
              "      <td>Manila</td>\n",
              "      <td>1995-01-01</td>\n",
              "      <td>NaN</td>\n",
              "      <td>2012-12-13</td>\n",
              "      <td>1900-05-13 02:47:00</td>\n",
              "      <td>6.78</td>\n",
              "      <td>80.0</td>\n",
              "      <td>7094.0</td>\n",
              "    </tr>\n",
              "    <tr>\n",
              "      <th>2</th>\n",
              "      <td>Damonashu</td>\n",
              "      <td>37326</td>\n",
              "      <td>45</td>\n",
              "      <td>195</td>\n",
              "      <td>27</td>\n",
              "      <td>25</td>\n",
              "      <td>59</td>\n",
              "      <td>83.70</td>\n",
              "      <td>Male</td>\n",
              "      <td>Detroit,Michigan</td>\n",
              "      <td>1991-08-01</td>\n",
              "      <td>NaN</td>\n",
              "      <td>2008-02-13</td>\n",
              "      <td>1900-03-24 12:48:00</td>\n",
              "      <td>6.15</td>\n",
              "      <td>6.0</td>\n",
              "      <td>4936.0</td>\n",
              "    </tr>\n",
              "    <tr>\n",
              "      <th>3</th>\n",
              "      <td>bskai</td>\n",
              "      <td>228342</td>\n",
              "      <td>25</td>\n",
              "      <td>414</td>\n",
              "      <td>2</td>\n",
              "      <td>5</td>\n",
              "      <td>11</td>\n",
              "      <td>167.16</td>\n",
              "      <td>Male</td>\n",
              "      <td>Nayarit, Mexico</td>\n",
              "      <td>1990-12-14</td>\n",
              "      <td>NaN</td>\n",
              "      <td>2009-08-31</td>\n",
              "      <td>2014-05-12 16:35:00</td>\n",
              "      <td>8.27</td>\n",
              "      <td>1.0</td>\n",
              "      <td>10081.0</td>\n",
              "    </tr>\n",
              "    <tr>\n",
              "      <th>4</th>\n",
              "      <td>shuzzable</td>\n",
              "      <td>2347781</td>\n",
              "      <td>36</td>\n",
              "      <td>72</td>\n",
              "      <td>16</td>\n",
              "      <td>2</td>\n",
              "      <td>25</td>\n",
              "      <td>35.48</td>\n",
              "      <td>NaN</td>\n",
              "      <td>NaN</td>\n",
              "      <td>NaN</td>\n",
              "      <td>NaN</td>\n",
              "      <td>2013-03-25</td>\n",
              "      <td>2015-09-09 21:54:00</td>\n",
              "      <td>9.06</td>\n",
              "      <td>7.0</td>\n",
              "      <td>2154.0</td>\n",
              "    </tr>\n",
              "  </tbody>\n",
              "</table>\n",
              "</div>\n",
              "      <button class=\"colab-df-convert\" onclick=\"convertToInteractive('df-84dc81de-75c0-4a7e-a0b8-121dbb8ff275')\"\n",
              "              title=\"Convert this dataframe to an interactive table.\"\n",
              "              style=\"display:none;\">\n",
              "        \n",
              "  <svg xmlns=\"http://www.w3.org/2000/svg\" height=\"24px\"viewBox=\"0 0 24 24\"\n",
              "       width=\"24px\">\n",
              "    <path d=\"M0 0h24v24H0V0z\" fill=\"none\"/>\n",
              "    <path d=\"M18.56 5.44l.94 2.06.94-2.06 2.06-.94-2.06-.94-.94-2.06-.94 2.06-2.06.94zm-11 1L8.5 8.5l.94-2.06 2.06-.94-2.06-.94L8.5 2.5l-.94 2.06-2.06.94zm10 10l.94 2.06.94-2.06 2.06-.94-2.06-.94-.94-2.06-.94 2.06-2.06.94z\"/><path d=\"M17.41 7.96l-1.37-1.37c-.4-.4-.92-.59-1.43-.59-.52 0-1.04.2-1.43.59L10.3 9.45l-7.72 7.72c-.78.78-.78 2.05 0 2.83L4 21.41c.39.39.9.59 1.41.59.51 0 1.02-.2 1.41-.59l7.78-7.78 2.81-2.81c.8-.78.8-2.07 0-2.86zM5.41 20L4 18.59l7.72-7.72 1.47 1.35L5.41 20z\"/>\n",
              "  </svg>\n",
              "      </button>\n",
              "      \n",
              "  <style>\n",
              "    .colab-df-container {\n",
              "      display:flex;\n",
              "      flex-wrap:wrap;\n",
              "      gap: 12px;\n",
              "    }\n",
              "\n",
              "    .colab-df-convert {\n",
              "      background-color: #E8F0FE;\n",
              "      border: none;\n",
              "      border-radius: 50%;\n",
              "      cursor: pointer;\n",
              "      display: none;\n",
              "      fill: #1967D2;\n",
              "      height: 32px;\n",
              "      padding: 0 0 0 0;\n",
              "      width: 32px;\n",
              "    }\n",
              "\n",
              "    .colab-df-convert:hover {\n",
              "      background-color: #E2EBFA;\n",
              "      box-shadow: 0px 1px 2px rgba(60, 64, 67, 0.3), 0px 1px 3px 1px rgba(60, 64, 67, 0.15);\n",
              "      fill: #174EA6;\n",
              "    }\n",
              "\n",
              "    [theme=dark] .colab-df-convert {\n",
              "      background-color: #3B4455;\n",
              "      fill: #D2E3FC;\n",
              "    }\n",
              "\n",
              "    [theme=dark] .colab-df-convert:hover {\n",
              "      background-color: #434B5C;\n",
              "      box-shadow: 0px 1px 3px 1px rgba(0, 0, 0, 0.15);\n",
              "      filter: drop-shadow(0px 1px 2px rgba(0, 0, 0, 0.3));\n",
              "      fill: #FFFFFF;\n",
              "    }\n",
              "  </style>\n",
              "\n",
              "      <script>\n",
              "        const buttonEl =\n",
              "          document.querySelector('#df-84dc81de-75c0-4a7e-a0b8-121dbb8ff275 button.colab-df-convert');\n",
              "        buttonEl.style.display =\n",
              "          google.colab.kernel.accessAllowed ? 'block' : 'none';\n",
              "\n",
              "        async function convertToInteractive(key) {\n",
              "          const element = document.querySelector('#df-84dc81de-75c0-4a7e-a0b8-121dbb8ff275');\n",
              "          const dataTable =\n",
              "            await google.colab.kernel.invokeFunction('convertToInteractive',\n",
              "                                                     [key], {});\n",
              "          if (!dataTable) return;\n",
              "\n",
              "          const docLinkHtml = 'Like what you see? Visit the ' +\n",
              "            '<a target=\"_blank\" href=https://colab.research.google.com/notebooks/data_table.ipynb>data table notebook</a>'\n",
              "            + ' to learn more about interactive tables.';\n",
              "          element.innerHTML = '';\n",
              "          dataTable['output_type'] = 'display_data';\n",
              "          await google.colab.output.renderOutput(dataTable, element);\n",
              "          const docLink = document.createElement('div');\n",
              "          docLink.innerHTML = docLinkHtml;\n",
              "          element.appendChild(docLink);\n",
              "        }\n",
              "      </script>\n",
              "    </div>\n",
              "  </div>\n",
              "  "
            ],
            "text/plain": [
              "           username  user_id  ...  stats_rewatched  stats_episodes\n",
              "0          karthiga  2255153  ...              0.0          3391.0\n",
              "1  RedvelvetDaisuki  1897606  ...             80.0          7094.0\n",
              "2         Damonashu    37326  ...              6.0          4936.0\n",
              "3             bskai   228342  ...              1.0         10081.0\n",
              "4         shuzzable  2347781  ...              7.0          2154.0\n",
              "\n",
              "[5 rows x 17 columns]"
            ]
          },
          "metadata": {},
          "execution_count": 120
        }
      ]
    },
    {
      "cell_type": "code",
      "source": [
        "df.tail()"
      ],
      "metadata": {
        "colab": {
          "base_uri": "https://localhost:8080/",
          "height": 357
        },
        "id": "Ym8nFOXLISY5",
        "outputId": "c0b999e6-7e00-47f3-d524-085aa546b4dd"
      },
      "execution_count": null,
      "outputs": [
        {
          "output_type": "execute_result",
          "data": {
            "text/html": [
              "\n",
              "  <div id=\"df-5f2f72db-8473-4224-aaf5-43e49b55b413\">\n",
              "    <div class=\"colab-df-container\">\n",
              "      <div>\n",
              "<style scoped>\n",
              "    .dataframe tbody tr th:only-of-type {\n",
              "        vertical-align: middle;\n",
              "    }\n",
              "\n",
              "    .dataframe tbody tr th {\n",
              "        vertical-align: top;\n",
              "    }\n",
              "\n",
              "    .dataframe thead th {\n",
              "        text-align: right;\n",
              "    }\n",
              "</style>\n",
              "<table border=\"1\" class=\"dataframe\">\n",
              "  <thead>\n",
              "    <tr style=\"text-align: right;\">\n",
              "      <th></th>\n",
              "      <th>username</th>\n",
              "      <th>user_id</th>\n",
              "      <th>user_watching</th>\n",
              "      <th>user_completed</th>\n",
              "      <th>user_onhold</th>\n",
              "      <th>user_dropped</th>\n",
              "      <th>user_plantowatch</th>\n",
              "      <th>user_days_spent_watching</th>\n",
              "      <th>gender</th>\n",
              "      <th>location</th>\n",
              "      <th>birth_date</th>\n",
              "      <th>access_rank</th>\n",
              "      <th>join_date</th>\n",
              "      <th>last_online</th>\n",
              "      <th>stats_mean_score</th>\n",
              "      <th>stats_rewatched</th>\n",
              "      <th>stats_episodes</th>\n",
              "    </tr>\n",
              "  </thead>\n",
              "  <tbody>\n",
              "    <tr>\n",
              "      <th>302670</th>\n",
              "      <td>ScruffyPuffy</td>\n",
              "      <td>3119025</td>\n",
              "      <td>0</td>\n",
              "      <td>27</td>\n",
              "      <td>0</td>\n",
              "      <td>0</td>\n",
              "      <td>0</td>\n",
              "      <td>7.92</td>\n",
              "      <td>NaN</td>\n",
              "      <td>NaN</td>\n",
              "      <td>NaN</td>\n",
              "      <td>NaN</td>\n",
              "      <td>2013-09-06</td>\n",
              "      <td>2014-10-10 09:04:00</td>\n",
              "      <td>0.00</td>\n",
              "      <td>0.0</td>\n",
              "      <td>477.0</td>\n",
              "    </tr>\n",
              "    <tr>\n",
              "      <th>302671</th>\n",
              "      <td>Torasori</td>\n",
              "      <td>3975907</td>\n",
              "      <td>22</td>\n",
              "      <td>239</td>\n",
              "      <td>0</td>\n",
              "      <td>4</td>\n",
              "      <td>176</td>\n",
              "      <td>86.88</td>\n",
              "      <td>Male</td>\n",
              "      <td>Latvia, Riga</td>\n",
              "      <td>1998-11-18</td>\n",
              "      <td>NaN</td>\n",
              "      <td>2014-07-30</td>\n",
              "      <td>2018-05-24 21:34:46</td>\n",
              "      <td>8.98</td>\n",
              "      <td>47.0</td>\n",
              "      <td>5313.0</td>\n",
              "    </tr>\n",
              "    <tr>\n",
              "      <th>302672</th>\n",
              "      <td>onpc</td>\n",
              "      <td>1268417</td>\n",
              "      <td>5</td>\n",
              "      <td>169</td>\n",
              "      <td>2</td>\n",
              "      <td>5</td>\n",
              "      <td>24</td>\n",
              "      <td>38.36</td>\n",
              "      <td>Male</td>\n",
              "      <td>NaN</td>\n",
              "      <td>NaN</td>\n",
              "      <td>NaN</td>\n",
              "      <td>2012-04-23</td>\n",
              "      <td>2016-12-28 14:35:00</td>\n",
              "      <td>7.72</td>\n",
              "      <td>0.0</td>\n",
              "      <td>2280.0</td>\n",
              "    </tr>\n",
              "    <tr>\n",
              "      <th>302673</th>\n",
              "      <td>HMicca</td>\n",
              "      <td>1289601</td>\n",
              "      <td>11</td>\n",
              "      <td>73</td>\n",
              "      <td>2</td>\n",
              "      <td>2</td>\n",
              "      <td>16</td>\n",
              "      <td>119.97</td>\n",
              "      <td>Female</td>\n",
              "      <td>Birmingham, England</td>\n",
              "      <td>1995-08-12</td>\n",
              "      <td>NaN</td>\n",
              "      <td>2012-05-05</td>\n",
              "      <td>2012-11-15 08:10:00</td>\n",
              "      <td>8.89</td>\n",
              "      <td>11.0</td>\n",
              "      <td>7049.0</td>\n",
              "    </tr>\n",
              "    <tr>\n",
              "      <th>302674</th>\n",
              "      <td>mini_kaila</td>\n",
              "      <td>236339</td>\n",
              "      <td>2</td>\n",
              "      <td>10</td>\n",
              "      <td>5</td>\n",
              "      <td>3</td>\n",
              "      <td>5</td>\n",
              "      <td>4.17</td>\n",
              "      <td>Female</td>\n",
              "      <td>NaN</td>\n",
              "      <td>NaN</td>\n",
              "      <td>NaN</td>\n",
              "      <td>2009-09-19</td>\n",
              "      <td>2011-08-19 01:15:00</td>\n",
              "      <td>7.82</td>\n",
              "      <td>0.0</td>\n",
              "      <td>245.0</td>\n",
              "    </tr>\n",
              "  </tbody>\n",
              "</table>\n",
              "</div>\n",
              "      <button class=\"colab-df-convert\" onclick=\"convertToInteractive('df-5f2f72db-8473-4224-aaf5-43e49b55b413')\"\n",
              "              title=\"Convert this dataframe to an interactive table.\"\n",
              "              style=\"display:none;\">\n",
              "        \n",
              "  <svg xmlns=\"http://www.w3.org/2000/svg\" height=\"24px\"viewBox=\"0 0 24 24\"\n",
              "       width=\"24px\">\n",
              "    <path d=\"M0 0h24v24H0V0z\" fill=\"none\"/>\n",
              "    <path d=\"M18.56 5.44l.94 2.06.94-2.06 2.06-.94-2.06-.94-.94-2.06-.94 2.06-2.06.94zm-11 1L8.5 8.5l.94-2.06 2.06-.94-2.06-.94L8.5 2.5l-.94 2.06-2.06.94zm10 10l.94 2.06.94-2.06 2.06-.94-2.06-.94-.94-2.06-.94 2.06-2.06.94z\"/><path d=\"M17.41 7.96l-1.37-1.37c-.4-.4-.92-.59-1.43-.59-.52 0-1.04.2-1.43.59L10.3 9.45l-7.72 7.72c-.78.78-.78 2.05 0 2.83L4 21.41c.39.39.9.59 1.41.59.51 0 1.02-.2 1.41-.59l7.78-7.78 2.81-2.81c.8-.78.8-2.07 0-2.86zM5.41 20L4 18.59l7.72-7.72 1.47 1.35L5.41 20z\"/>\n",
              "  </svg>\n",
              "      </button>\n",
              "      \n",
              "  <style>\n",
              "    .colab-df-container {\n",
              "      display:flex;\n",
              "      flex-wrap:wrap;\n",
              "      gap: 12px;\n",
              "    }\n",
              "\n",
              "    .colab-df-convert {\n",
              "      background-color: #E8F0FE;\n",
              "      border: none;\n",
              "      border-radius: 50%;\n",
              "      cursor: pointer;\n",
              "      display: none;\n",
              "      fill: #1967D2;\n",
              "      height: 32px;\n",
              "      padding: 0 0 0 0;\n",
              "      width: 32px;\n",
              "    }\n",
              "\n",
              "    .colab-df-convert:hover {\n",
              "      background-color: #E2EBFA;\n",
              "      box-shadow: 0px 1px 2px rgba(60, 64, 67, 0.3), 0px 1px 3px 1px rgba(60, 64, 67, 0.15);\n",
              "      fill: #174EA6;\n",
              "    }\n",
              "\n",
              "    [theme=dark] .colab-df-convert {\n",
              "      background-color: #3B4455;\n",
              "      fill: #D2E3FC;\n",
              "    }\n",
              "\n",
              "    [theme=dark] .colab-df-convert:hover {\n",
              "      background-color: #434B5C;\n",
              "      box-shadow: 0px 1px 3px 1px rgba(0, 0, 0, 0.15);\n",
              "      filter: drop-shadow(0px 1px 2px rgba(0, 0, 0, 0.3));\n",
              "      fill: #FFFFFF;\n",
              "    }\n",
              "  </style>\n",
              "\n",
              "      <script>\n",
              "        const buttonEl =\n",
              "          document.querySelector('#df-5f2f72db-8473-4224-aaf5-43e49b55b413 button.colab-df-convert');\n",
              "        buttonEl.style.display =\n",
              "          google.colab.kernel.accessAllowed ? 'block' : 'none';\n",
              "\n",
              "        async function convertToInteractive(key) {\n",
              "          const element = document.querySelector('#df-5f2f72db-8473-4224-aaf5-43e49b55b413');\n",
              "          const dataTable =\n",
              "            await google.colab.kernel.invokeFunction('convertToInteractive',\n",
              "                                                     [key], {});\n",
              "          if (!dataTable) return;\n",
              "\n",
              "          const docLinkHtml = 'Like what you see? Visit the ' +\n",
              "            '<a target=\"_blank\" href=https://colab.research.google.com/notebooks/data_table.ipynb>data table notebook</a>'\n",
              "            + ' to learn more about interactive tables.';\n",
              "          element.innerHTML = '';\n",
              "          dataTable['output_type'] = 'display_data';\n",
              "          await google.colab.output.renderOutput(dataTable, element);\n",
              "          const docLink = document.createElement('div');\n",
              "          docLink.innerHTML = docLinkHtml;\n",
              "          element.appendChild(docLink);\n",
              "        }\n",
              "      </script>\n",
              "    </div>\n",
              "  </div>\n",
              "  "
            ],
            "text/plain": [
              "            username  user_id  ...  stats_rewatched  stats_episodes\n",
              "302670  ScruffyPuffy  3119025  ...              0.0           477.0\n",
              "302671      Torasori  3975907  ...             47.0          5313.0\n",
              "302672          onpc  1268417  ...              0.0          2280.0\n",
              "302673        HMicca  1289601  ...             11.0          7049.0\n",
              "302674    mini_kaila   236339  ...              0.0           245.0\n",
              "\n",
              "[5 rows x 17 columns]"
            ]
          },
          "metadata": {},
          "execution_count": 121
        }
      ]
    },
    {
      "cell_type": "code",
      "source": [
        "df.shape"
      ],
      "metadata": {
        "colab": {
          "base_uri": "https://localhost:8080/"
        },
        "id": "zcl0p6zUIVM4",
        "outputId": "23306512-4956-4981-db87-1681cf5eaf17"
      },
      "execution_count": null,
      "outputs": [
        {
          "output_type": "execute_result",
          "data": {
            "text/plain": [
              "(302675, 17)"
            ]
          },
          "metadata": {},
          "execution_count": 122
        }
      ]
    },
    {
      "cell_type": "markdown",
      "source": [
        "Lots of data to work with here, but it will need some serious cleaning up. To start with, lets drop all the columns we know we aren't going to use."
      ],
      "metadata": {
        "id": "nWBDO74cypPs"
      }
    },
    {
      "cell_type": "code",
      "source": [
        "df = df.drop([\"access_rank\", \"stats_mean_score\", \"stats_rewatched\", \"stats_episodes\", \"username\", \"location\", \"birth_date\", \"gender\", \"user_onhold\", \"user_dropped\"], axis = 1)"
      ],
      "metadata": {
        "id": "GwFMBJyb7ogj"
      },
      "execution_count": null,
      "outputs": []
    },
    {
      "cell_type": "markdown",
      "source": [
        "Now that our columns have been whittled down a fair bit, lets see how many NaN entries we have."
      ],
      "metadata": {
        "id": "opFM09Jc0Y1I"
      }
    },
    {
      "cell_type": "code",
      "source": [
        "df.isnull().sum().sort_values(ascending=False)"
      ],
      "metadata": {
        "colab": {
          "base_uri": "https://localhost:8080/"
        },
        "id": "-g9TKuBk0dqO",
        "outputId": "78c706bd-b924-4022-897e-d5e560c17733"
      },
      "execution_count": null,
      "outputs": [
        {
          "output_type": "execute_result",
          "data": {
            "text/plain": [
              "join_date                   129\n",
              "last_online                 129\n",
              "user_id                       0\n",
              "user_watching                 0\n",
              "user_completed                0\n",
              "user_plantowatch              0\n",
              "user_days_spent_watching      0\n",
              "dtype: int64"
            ]
          },
          "metadata": {},
          "execution_count": 124
        }
      ]
    },
    {
      "cell_type": "markdown",
      "source": [
        "Okay, there are a few, but not nearly as many as I was expecting. Let's go ahead and drop all of our null rows and see what we have left."
      ],
      "metadata": {
        "id": "T6JB8VsKUPDu"
      }
    },
    {
      "cell_type": "code",
      "source": [
        "newdf = df.dropna(subset = [\"last_online\", \"join_date\"])"
      ],
      "metadata": {
        "id": "pz_5DVibAdWZ"
      },
      "execution_count": null,
      "outputs": []
    },
    {
      "cell_type": "code",
      "source": [
        "newdf.head()"
      ],
      "metadata": {
        "colab": {
          "base_uri": "https://localhost:8080/",
          "height": 206
        },
        "id": "wZiPJ6WD0n_b",
        "outputId": "9ecd4f2c-51fb-4beb-e57e-4bf2e8c39cf3"
      },
      "execution_count": null,
      "outputs": [
        {
          "output_type": "execute_result",
          "data": {
            "text/html": [
              "\n",
              "  <div id=\"df-095798c2-e4f5-400c-8e87-2ebeddb64460\">\n",
              "    <div class=\"colab-df-container\">\n",
              "      <div>\n",
              "<style scoped>\n",
              "    .dataframe tbody tr th:only-of-type {\n",
              "        vertical-align: middle;\n",
              "    }\n",
              "\n",
              "    .dataframe tbody tr th {\n",
              "        vertical-align: top;\n",
              "    }\n",
              "\n",
              "    .dataframe thead th {\n",
              "        text-align: right;\n",
              "    }\n",
              "</style>\n",
              "<table border=\"1\" class=\"dataframe\">\n",
              "  <thead>\n",
              "    <tr style=\"text-align: right;\">\n",
              "      <th></th>\n",
              "      <th>user_id</th>\n",
              "      <th>user_watching</th>\n",
              "      <th>user_completed</th>\n",
              "      <th>user_plantowatch</th>\n",
              "      <th>user_days_spent_watching</th>\n",
              "      <th>join_date</th>\n",
              "      <th>last_online</th>\n",
              "    </tr>\n",
              "  </thead>\n",
              "  <tbody>\n",
              "    <tr>\n",
              "      <th>0</th>\n",
              "      <td>2255153</td>\n",
              "      <td>3</td>\n",
              "      <td>49</td>\n",
              "      <td>0</td>\n",
              "      <td>55.31</td>\n",
              "      <td>2013-03-03</td>\n",
              "      <td>2014-02-04 01:32:00</td>\n",
              "    </tr>\n",
              "    <tr>\n",
              "      <th>1</th>\n",
              "      <td>1897606</td>\n",
              "      <td>61</td>\n",
              "      <td>396</td>\n",
              "      <td>206</td>\n",
              "      <td>118.07</td>\n",
              "      <td>2012-12-13</td>\n",
              "      <td>1900-05-13 02:47:00</td>\n",
              "    </tr>\n",
              "    <tr>\n",
              "      <th>2</th>\n",
              "      <td>37326</td>\n",
              "      <td>45</td>\n",
              "      <td>195</td>\n",
              "      <td>59</td>\n",
              "      <td>83.70</td>\n",
              "      <td>2008-02-13</td>\n",
              "      <td>1900-03-24 12:48:00</td>\n",
              "    </tr>\n",
              "    <tr>\n",
              "      <th>3</th>\n",
              "      <td>228342</td>\n",
              "      <td>25</td>\n",
              "      <td>414</td>\n",
              "      <td>11</td>\n",
              "      <td>167.16</td>\n",
              "      <td>2009-08-31</td>\n",
              "      <td>2014-05-12 16:35:00</td>\n",
              "    </tr>\n",
              "    <tr>\n",
              "      <th>4</th>\n",
              "      <td>2347781</td>\n",
              "      <td>36</td>\n",
              "      <td>72</td>\n",
              "      <td>25</td>\n",
              "      <td>35.48</td>\n",
              "      <td>2013-03-25</td>\n",
              "      <td>2015-09-09 21:54:00</td>\n",
              "    </tr>\n",
              "  </tbody>\n",
              "</table>\n",
              "</div>\n",
              "      <button class=\"colab-df-convert\" onclick=\"convertToInteractive('df-095798c2-e4f5-400c-8e87-2ebeddb64460')\"\n",
              "              title=\"Convert this dataframe to an interactive table.\"\n",
              "              style=\"display:none;\">\n",
              "        \n",
              "  <svg xmlns=\"http://www.w3.org/2000/svg\" height=\"24px\"viewBox=\"0 0 24 24\"\n",
              "       width=\"24px\">\n",
              "    <path d=\"M0 0h24v24H0V0z\" fill=\"none\"/>\n",
              "    <path d=\"M18.56 5.44l.94 2.06.94-2.06 2.06-.94-2.06-.94-.94-2.06-.94 2.06-2.06.94zm-11 1L8.5 8.5l.94-2.06 2.06-.94-2.06-.94L8.5 2.5l-.94 2.06-2.06.94zm10 10l.94 2.06.94-2.06 2.06-.94-2.06-.94-.94-2.06-.94 2.06-2.06.94z\"/><path d=\"M17.41 7.96l-1.37-1.37c-.4-.4-.92-.59-1.43-.59-.52 0-1.04.2-1.43.59L10.3 9.45l-7.72 7.72c-.78.78-.78 2.05 0 2.83L4 21.41c.39.39.9.59 1.41.59.51 0 1.02-.2 1.41-.59l7.78-7.78 2.81-2.81c.8-.78.8-2.07 0-2.86zM5.41 20L4 18.59l7.72-7.72 1.47 1.35L5.41 20z\"/>\n",
              "  </svg>\n",
              "      </button>\n",
              "      \n",
              "  <style>\n",
              "    .colab-df-container {\n",
              "      display:flex;\n",
              "      flex-wrap:wrap;\n",
              "      gap: 12px;\n",
              "    }\n",
              "\n",
              "    .colab-df-convert {\n",
              "      background-color: #E8F0FE;\n",
              "      border: none;\n",
              "      border-radius: 50%;\n",
              "      cursor: pointer;\n",
              "      display: none;\n",
              "      fill: #1967D2;\n",
              "      height: 32px;\n",
              "      padding: 0 0 0 0;\n",
              "      width: 32px;\n",
              "    }\n",
              "\n",
              "    .colab-df-convert:hover {\n",
              "      background-color: #E2EBFA;\n",
              "      box-shadow: 0px 1px 2px rgba(60, 64, 67, 0.3), 0px 1px 3px 1px rgba(60, 64, 67, 0.15);\n",
              "      fill: #174EA6;\n",
              "    }\n",
              "\n",
              "    [theme=dark] .colab-df-convert {\n",
              "      background-color: #3B4455;\n",
              "      fill: #D2E3FC;\n",
              "    }\n",
              "\n",
              "    [theme=dark] .colab-df-convert:hover {\n",
              "      background-color: #434B5C;\n",
              "      box-shadow: 0px 1px 3px 1px rgba(0, 0, 0, 0.15);\n",
              "      filter: drop-shadow(0px 1px 2px rgba(0, 0, 0, 0.3));\n",
              "      fill: #FFFFFF;\n",
              "    }\n",
              "  </style>\n",
              "\n",
              "      <script>\n",
              "        const buttonEl =\n",
              "          document.querySelector('#df-095798c2-e4f5-400c-8e87-2ebeddb64460 button.colab-df-convert');\n",
              "        buttonEl.style.display =\n",
              "          google.colab.kernel.accessAllowed ? 'block' : 'none';\n",
              "\n",
              "        async function convertToInteractive(key) {\n",
              "          const element = document.querySelector('#df-095798c2-e4f5-400c-8e87-2ebeddb64460');\n",
              "          const dataTable =\n",
              "            await google.colab.kernel.invokeFunction('convertToInteractive',\n",
              "                                                     [key], {});\n",
              "          if (!dataTable) return;\n",
              "\n",
              "          const docLinkHtml = 'Like what you see? Visit the ' +\n",
              "            '<a target=\"_blank\" href=https://colab.research.google.com/notebooks/data_table.ipynb>data table notebook</a>'\n",
              "            + ' to learn more about interactive tables.';\n",
              "          element.innerHTML = '';\n",
              "          dataTable['output_type'] = 'display_data';\n",
              "          await google.colab.output.renderOutput(dataTable, element);\n",
              "          const docLink = document.createElement('div');\n",
              "          docLink.innerHTML = docLinkHtml;\n",
              "          element.appendChild(docLink);\n",
              "        }\n",
              "      </script>\n",
              "    </div>\n",
              "  </div>\n",
              "  "
            ],
            "text/plain": [
              "   user_id  user_watching  ...   join_date          last_online\n",
              "0  2255153              3  ...  2013-03-03  2014-02-04 01:32:00\n",
              "1  1897606             61  ...  2012-12-13  1900-05-13 02:47:00\n",
              "2    37326             45  ...  2008-02-13  1900-03-24 12:48:00\n",
              "3   228342             25  ...  2009-08-31  2014-05-12 16:35:00\n",
              "4  2347781             36  ...  2013-03-25  2015-09-09 21:54:00\n",
              "\n",
              "[5 rows x 7 columns]"
            ]
          },
          "metadata": {},
          "execution_count": 128
        }
      ]
    },
    {
      "cell_type": "code",
      "source": [
        "newdf.shape"
      ],
      "metadata": {
        "colab": {
          "base_uri": "https://localhost:8080/"
        },
        "id": "1cLQAiqj2a-Y",
        "outputId": "64449822-5a82-4c09-f8d8-dcc11014423e"
      },
      "execution_count": null,
      "outputs": [
        {
          "output_type": "execute_result",
          "data": {
            "text/plain": [
              "(302546, 7)"
            ]
          },
          "metadata": {},
          "execution_count": 129
        }
      ]
    },
    {
      "cell_type": "markdown",
      "source": [
        "Awesome! Still have most of the dataset to work with from here."
      ],
      "metadata": {
        "id": "5wXrZSUZUeHB"
      }
    },
    {
      "cell_type": "markdown",
      "source": [
        "## Data now clean\n",
        "After sorting down to the columns we will be using, there were very few NaN entries to remove, so overall the majority of the dataset is still intact - great!"
      ],
      "metadata": {
        "id": "bFzwedHIAwa2"
      }
    },
    {
      "cell_type": "markdown",
      "source": [
        "The next step we're going to take is to filter out all the users who are not consistently active on the platform. We will do this by limiting our users to those who have logged on in the last year. \n",
        "\n",
        "Lets find out what the latest date is in the dataset."
      ],
      "metadata": {
        "id": "NmGrocOCBTml"
      }
    },
    {
      "cell_type": "code",
      "source": [
        "newdf[\"last_online\"].sort_values(ascending = False )"
      ],
      "metadata": {
        "colab": {
          "base_uri": "https://localhost:8080/"
        },
        "id": "6DSxlaLYBQ2S",
        "outputId": "446c05c3-3421-4916-b5cf-21bf336b4c48"
      },
      "execution_count": null,
      "outputs": [
        {
          "output_type": "execute_result",
          "data": {
            "text/plain": [
              "294913    2018-05-25 12:53:00\n",
              "292747    2018-05-25 12:52:00\n",
              "296948    2018-05-25 12:51:00\n",
              "296109    2018-05-25 12:50:00\n",
              "294821    2018-05-25 12:49:00\n",
              "                 ...         \n",
              "198235    1900-01-01 00:54:00\n",
              "194033    1900-01-01 00:52:00\n",
              "101153    1900-01-01 00:38:00\n",
              "201461    1900-01-01 00:31:00\n",
              "284163    1900-01-01 00:13:00\n",
              "Name: last_online, Length: 302546, dtype: object"
            ]
          },
          "metadata": {},
          "execution_count": 130
        }
      ]
    },
    {
      "cell_type": "markdown",
      "source": [
        "Looks like the latest login was May 25th, 2018. We will keep all entries that logged in between May 25th, 2017 through May 25th, 2018.\n",
        "\n",
        "Another thing to note, it looks like some dates are recording as if they logged-in in 1900. Hopefully not many are falling under this quirk."
      ],
      "metadata": {
        "id": "3_JlL0ZYCG2-"
      }
    },
    {
      "cell_type": "code",
      "source": [
        "activeUser_df = (df.loc[(df['last_online'] >= '2017-05-25') & (df['last_online'] <= \"2018-05-25\")])\n",
        "activeUser_df[\"last_online\"].sort_values(ascending=False)"
      ],
      "metadata": {
        "colab": {
          "base_uri": "https://localhost:8080/"
        },
        "id": "Q4tyXc6ADCuz",
        "outputId": "0c242f4a-3c25-4f05-f965-cce98478566c"
      },
      "execution_count": null,
      "outputs": [
        {
          "output_type": "execute_result",
          "data": {
            "text/plain": [
              "298654    2018-05-24 23:58:00\n",
              "297959    2018-05-24 23:58:00\n",
              "298112    2018-05-24 23:57:36\n",
              "302386    2018-05-24 23:57:00\n",
              "298061    2018-05-24 23:56:33\n",
              "                 ...         \n",
              "47478     2017-05-25 02:19:00\n",
              "141785    2017-05-25 01:44:00\n",
              "2163      2017-05-25 01:40:00\n",
              "96595     2017-05-25 00:19:00\n",
              "217497    2017-05-25 00:03:00\n",
              "Name: last_online, Length: 67724, dtype: object"
            ]
          },
          "metadata": {},
          "execution_count": 131
        }
      ]
    },
    {
      "cell_type": "markdown",
      "source": [
        "Nice, we still have a solid amount of active users at about 67k. Let's make sure we only keep those who 'actually' use the service. \n"
      ],
      "metadata": {
        "id": "Miz9pb0lU0xT"
      }
    },
    {
      "cell_type": "markdown",
      "source": [
        "We are going to do this by only keeping users who have added at least 30 titles to their collection. Keep in mind, these are going to be our power-users. However, rather than breaking our data down into a variety of subsets that accomodate the various start dates for each user, this will be an easier way to track a correlation between titles added and titles watched. \n",
        "\n",
        "By going this direction we will keep in mind that our results could be biased toward those who heavily use the service vs those who don't. Though I'd argue that's what we're looking for anyway, we don't really want the people that don't actively use the service."
      ],
      "metadata": {
        "id": "srTvvCQKEM6-"
      }
    },
    {
      "cell_type": "code",
      "source": [
        " reallyActive_df = (activeUser_df.loc[(activeUser_df['user_plantowatch'] >= 30) & (activeUser_df['user_completed'] > 30)])"
      ],
      "metadata": {
        "id": "2zcClTl7EJQD"
      },
      "execution_count": null,
      "outputs": []
    },
    {
      "cell_type": "code",
      "source": [
        "reallyActive_df.shape"
      ],
      "metadata": {
        "colab": {
          "base_uri": "https://localhost:8080/"
        },
        "id": "2mXGrRELVEM8",
        "outputId": "3fd4477f-0c8a-4849-e267-3ea23ccdaeae"
      },
      "execution_count": null,
      "outputs": [
        {
          "output_type": "execute_result",
          "data": {
            "text/plain": [
              "(41177, 7)"
            ]
          },
          "metadata": {},
          "execution_count": 144
        }
      ]
    },
    {
      "cell_type": "markdown",
      "source": [
        "Nice, still have the majority of our active users at 41k. Now we are ready to see if there is a correlation."
      ],
      "metadata": {
        "id": "0_fVD0GKVQsO"
      }
    },
    {
      "cell_type": "markdown",
      "source": [
        "# Our Correlation Test\n",
        "This test will tell us if there is a correlation between people that add a lot of titles to watch with how many titles they actually do watch."
      ],
      "metadata": {
        "id": "h86zHLTQQ5eH"
      }
    },
    {
      "cell_type": "code",
      "source": [
        "reallyActive = reallyActive_df.drop(columns = ['user_id', 'join_date', 'last_online'])\n",
        "reallyActive.corr().style.background_gradient(cmap = \"GnBu\")"
      ],
      "metadata": {
        "colab": {
          "base_uri": "https://localhost:8080/",
          "height": 175
        },
        "id": "6qZDhIa2EfVU",
        "outputId": "baffec00-61b6-48ac-ffbe-9ef93d253a7b"
      },
      "execution_count": null,
      "outputs": [
        {
          "output_type": "execute_result",
          "data": {
            "text/html": [
              "<style type=\"text/css\">\n",
              "#T_c80ba_row0_col0, #T_c80ba_row1_col1, #T_c80ba_row2_col2, #T_c80ba_row3_col3 {\n",
              "  background-color: #084081;\n",
              "  color: #f1f1f1;\n",
              "}\n",
              "#T_c80ba_row0_col1, #T_c80ba_row2_col3, #T_c80ba_row3_col0, #T_c80ba_row3_col2 {\n",
              "  background-color: #f7fcf0;\n",
              "  color: #000000;\n",
              "}\n",
              "#T_c80ba_row0_col2, #T_c80ba_row1_col0 {\n",
              "  background-color: #ebf7e5;\n",
              "  color: #000000;\n",
              "}\n",
              "#T_c80ba_row0_col3 {\n",
              "  background-color: #f5fbee;\n",
              "  color: #000000;\n",
              "}\n",
              "#T_c80ba_row1_col2 {\n",
              "  background-color: #e0f3db;\n",
              "  color: #000000;\n",
              "}\n",
              "#T_c80ba_row1_col3 {\n",
              "  background-color: #5bbacf;\n",
              "  color: #000000;\n",
              "}\n",
              "#T_c80ba_row2_col0 {\n",
              "  background-color: #eef8e7;\n",
              "  color: #000000;\n",
              "}\n",
              "#T_c80ba_row2_col1 {\n",
              "  background-color: #eef9e8;\n",
              "  color: #000000;\n",
              "}\n",
              "#T_c80ba_row3_col1 {\n",
              "  background-color: #68c1ca;\n",
              "  color: #000000;\n",
              "}\n",
              "</style>\n",
              "<table id=\"T_c80ba_\" class=\"dataframe\">\n",
              "  <thead>\n",
              "    <tr>\n",
              "      <th class=\"blank level0\" >&nbsp;</th>\n",
              "      <th class=\"col_heading level0 col0\" >user_watching</th>\n",
              "      <th class=\"col_heading level0 col1\" >user_completed</th>\n",
              "      <th class=\"col_heading level0 col2\" >user_plantowatch</th>\n",
              "      <th class=\"col_heading level0 col3\" >user_days_spent_watching</th>\n",
              "    </tr>\n",
              "  </thead>\n",
              "  <tbody>\n",
              "    <tr>\n",
              "      <th id=\"T_c80ba_level0_row0\" class=\"row_heading level0 row0\" >user_watching</th>\n",
              "      <td id=\"T_c80ba_row0_col0\" class=\"data row0 col0\" >1.000000</td>\n",
              "      <td id=\"T_c80ba_row0_col1\" class=\"data row0 col1\" >0.189190</td>\n",
              "      <td id=\"T_c80ba_row0_col2\" class=\"data row0 col2\" >0.173954</td>\n",
              "      <td id=\"T_c80ba_row0_col3\" class=\"data row0 col3\" >0.129732</td>\n",
              "    </tr>\n",
              "    <tr>\n",
              "      <th id=\"T_c80ba_level0_row1\" class=\"row_heading level0 row1\" >user_completed</th>\n",
              "      <td id=\"T_c80ba_row1_col0\" class=\"data row1 col0\" >0.189190</td>\n",
              "      <td id=\"T_c80ba_row1_col1\" class=\"data row1 col1\" >1.000000</td>\n",
              "      <td id=\"T_c80ba_row1_col2\" class=\"data row1 col2\" >0.227587</td>\n",
              "      <td id=\"T_c80ba_row1_col3\" class=\"data row1 col3\" >0.636512</td>\n",
              "    </tr>\n",
              "    <tr>\n",
              "      <th id=\"T_c80ba_level0_row2\" class=\"row_heading level0 row2\" >user_plantowatch</th>\n",
              "      <td id=\"T_c80ba_row2_col0\" class=\"data row2 col0\" >0.173954</td>\n",
              "      <td id=\"T_c80ba_row2_col1\" class=\"data row2 col1\" >0.227587</td>\n",
              "      <td id=\"T_c80ba_row2_col2\" class=\"data row2 col2\" >1.000000</td>\n",
              "      <td id=\"T_c80ba_row2_col3\" class=\"data row2 col3\" >0.116852</td>\n",
              "    </tr>\n",
              "    <tr>\n",
              "      <th id=\"T_c80ba_level0_row3\" class=\"row_heading level0 row3\" >user_days_spent_watching</th>\n",
              "      <td id=\"T_c80ba_row3_col0\" class=\"data row3 col0\" >0.129732</td>\n",
              "      <td id=\"T_c80ba_row3_col1\" class=\"data row3 col1\" >0.636512</td>\n",
              "      <td id=\"T_c80ba_row3_col2\" class=\"data row3 col2\" >0.116852</td>\n",
              "      <td id=\"T_c80ba_row3_col3\" class=\"data row3 col3\" >1.000000</td>\n",
              "    </tr>\n",
              "  </tbody>\n",
              "</table>\n"
            ],
            "text/plain": [
              "<pandas.io.formats.style.Styler at 0x7f695b7dffd0>"
            ]
          },
          "metadata": {},
          "execution_count": 145
        }
      ]
    },
    {
      "cell_type": "markdown",
      "source": [
        "## Result\n",
        "Super interesting - the only somewhat-strong correlation is between titles watched and days spent watching, which makes sense. You'd hope more titles watched would equal more time watching.\n",
        "\n",
        "What's weird to me is the weak correlation between planning to watch something and actually watching it. I mean, a correlation is there, but it's so weak that the only genuine conclusion to our question is that most people really are just window shoppers. They just keep adding movies, but then what? Clearly they aren't watching them all! Such a shame."
      ],
      "metadata": {
        "id": "BQ_MgwYWVkxV"
      }
    },
    {
      "cell_type": "markdown",
      "source": [
        "#Write Up\n",
        "\n",
        "Okay, so I chose the anime-viewer dataset because I thought it would be really interesting to use such a large dataset compared to the other’s we have used so far in this class. There was a bit of a challenge in getting it uploaded properly. Initially I was trying to get it uploaded to my github repo so I could link it in from there, but the file size was too large for a browser upload and trying to get my computer to push through a command line prompt wasn’t working as I would have hoped. In the end, I decided I would just be lame and upload the file directly into the notebook. \n",
        "\n",
        "The primary question I wanted to ask was this: do users who add movies or TV shows to their streaming library actually watch those shows? In theory, the more shows a person adds, the more they should be watching. Personally, my list is the first thing I look at when I log into my streaming account and I’ll usually watch something from there, so I figured that would make sense that there should be a correlation between added shows and viewed shows. There is so much user data I think we can get a pretty good representation of whether or not people actually do that, or if they just add shows to the library all the time and never even watch them like window shoppers. It would be interesting to figure this out. \n",
        "\n",
        "Diving into the dataset a little bit more, looking at the head, tail, and size I found that there were really a lot of entries. I only really needed information that told me when they joined, how active they were, how many movies are adding to their library, and how many movies are actually being watched. So, out of the 17 columns or so I dropped quite a few. Then, out of the columns that were relevant to the question we were asking, there were very few null entries left. \n",
        "Breaking the data down like that I realized we still have most of our data because of the question I asked. It seemed as though we didn’t need too much cleaning, however we did dive in a little bit more and actually clean the data in the sense that we only wanted active users of people that have logged on in the last year or so. Did this by finding the latest date recorded in the data set, then took the liberty to keep only active users by dropping everyone who hadn’t logged on in the last year. This refined the data down quite a bit from 300k to about 60k. Now that we only had active users, I wanted to focus on the really active users - people that have actually added at least 30 titles to their library over the course of their account history. This would root out casual viewers that don’t really watch consistently, keeping only the active ones. Filtering that down and we were left with about 40k users to pull data from. \n",
        "\n",
        "Did a correlation test just to see what’s correlated with the variables we had left. Results were more surprising to me than I thought. There really was just a weak correlation between shows added and shows watched. It seems as though most people just add shows to their library but they don’t necessarily watch them. I mean there’s a little correlation there, but not really. Interesting to see another correlation came up between those who did watch more ended up watching for more days, which does make sense. There should be a pretty good correlation between those two, so I’m glad that at least happened. Interesting to see the titles added aren’t really being watched, who knew. \n",
        "\n",
        "I used the pandas correlation table since it displays really well. It gives good results and I like how it color contrasts the correlated elements in a nice little box grid format. The darker the color implies that there’s a greater correlation and so on."
      ],
      "metadata": {
        "id": "LZYLwTmmQ0pE"
      }
    }
  ]
}