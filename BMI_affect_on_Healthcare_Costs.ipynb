{
  "nbformat": 4,
  "nbformat_minor": 0,
  "metadata": {
    "colab": {
      "provenance": []
    },
    "kernelspec": {
      "name": "python3",
      "display_name": "Python 3"
    },
    "language_info": {
      "name": "python"
    }
  },
  "cells": [
    {
      "cell_type": "code",
      "execution_count": null,
      "metadata": {
        "id": "mVGrnX2Hqra2"
      },
      "outputs": [],
      "source": [
        "%matplotlib inline\n",
        "import matplotlib.pyplot as plt\n",
        "import seaborn as sb\n",
        "\n",
        "import numpy as np\n",
        "import pandas as pd\n",
        "\n",
        "import scipy.stats as stats\n",
        "import statsmodels.api as sm\n",
        "from statsmodels.formula.api import ols\n"
      ]
    },
    {
      "cell_type": "markdown",
      "source": [
        "#QUESTION\n",
        "\n",
        "Do people with a higher BMI pay more in health care costs?"
      ],
      "metadata": {
        "id": "fYVCRQMbq8FB"
      }
    },
    {
      "cell_type": "markdown",
      "source": [
        "Body Mass Index (BMI) is a person's weight in kilograms divided by the square of height in meters. A high BMI can indicate high body fatness. BMI screens for weight categories that may lead to health problems, but it does not diagnose the body fatness or health of an individual.\n",
        "\n",
        "Considering this, it would be of interest to note the correlation between the BMI metric and how it associates with expendeture on health related services. "
      ],
      "metadata": {
        "id": "X5MNtvpcAzVt"
      }
    },
    {
      "cell_type": "code",
      "source": [
        "df = pd.read_csv(\"https://raw.githubusercontent.com/Pauline177/DataScience2500/main/insurance.csv\")"
      ],
      "metadata": {
        "id": "c4QypRFIrK_w"
      },
      "execution_count": null,
      "outputs": []
    },
    {
      "cell_type": "markdown",
      "source": [
        "Check the Packaging"
      ],
      "metadata": {
        "id": "RaoB9BU2vQaj"
      }
    },
    {
      "cell_type": "code",
      "source": [
        "df.shape"
      ],
      "metadata": {
        "colab": {
          "base_uri": "https://localhost:8080/"
        },
        "id": "bZ9Y1qD-rVRP",
        "outputId": "14d8fc58-151d-4884-8c49-0fd8f40576b3"
      },
      "execution_count": null,
      "outputs": [
        {
          "output_type": "execute_result",
          "data": {
            "text/plain": [
              "(1338, 7)"
            ]
          },
          "metadata": {},
          "execution_count": 4
        }
      ]
    },
    {
      "cell_type": "markdown",
      "source": [
        "Check the Top and Bottom of the Dataset"
      ],
      "metadata": {
        "id": "9kiK1VT6vVIK"
      }
    },
    {
      "cell_type": "code",
      "source": [
        "df.head()"
      ],
      "metadata": {
        "colab": {
          "base_uri": "https://localhost:8080/",
          "height": 206
        },
        "id": "VkvU-KLOrjEw",
        "outputId": "eb0ffab0-3368-48cb-a850-cb68c84db3b7"
      },
      "execution_count": null,
      "outputs": [
        {
          "output_type": "execute_result",
          "data": {
            "text/html": [
              "\n",
              "  <div id=\"df-3ff016c9-26dd-45e4-b29d-aea3b4b66f0e\">\n",
              "    <div class=\"colab-df-container\">\n",
              "      <div>\n",
              "<style scoped>\n",
              "    .dataframe tbody tr th:only-of-type {\n",
              "        vertical-align: middle;\n",
              "    }\n",
              "\n",
              "    .dataframe tbody tr th {\n",
              "        vertical-align: top;\n",
              "    }\n",
              "\n",
              "    .dataframe thead th {\n",
              "        text-align: right;\n",
              "    }\n",
              "</style>\n",
              "<table border=\"1\" class=\"dataframe\">\n",
              "  <thead>\n",
              "    <tr style=\"text-align: right;\">\n",
              "      <th></th>\n",
              "      <th>age</th>\n",
              "      <th>sex</th>\n",
              "      <th>bmi</th>\n",
              "      <th>children</th>\n",
              "      <th>smoker</th>\n",
              "      <th>region</th>\n",
              "      <th>charges</th>\n",
              "    </tr>\n",
              "  </thead>\n",
              "  <tbody>\n",
              "    <tr>\n",
              "      <th>0</th>\n",
              "      <td>19</td>\n",
              "      <td>female</td>\n",
              "      <td>27.900</td>\n",
              "      <td>0</td>\n",
              "      <td>yes</td>\n",
              "      <td>southwest</td>\n",
              "      <td>16884.92400</td>\n",
              "    </tr>\n",
              "    <tr>\n",
              "      <th>1</th>\n",
              "      <td>18</td>\n",
              "      <td>male</td>\n",
              "      <td>33.770</td>\n",
              "      <td>1</td>\n",
              "      <td>no</td>\n",
              "      <td>southeast</td>\n",
              "      <td>1725.55230</td>\n",
              "    </tr>\n",
              "    <tr>\n",
              "      <th>2</th>\n",
              "      <td>28</td>\n",
              "      <td>male</td>\n",
              "      <td>33.000</td>\n",
              "      <td>3</td>\n",
              "      <td>no</td>\n",
              "      <td>southeast</td>\n",
              "      <td>4449.46200</td>\n",
              "    </tr>\n",
              "    <tr>\n",
              "      <th>3</th>\n",
              "      <td>33</td>\n",
              "      <td>male</td>\n",
              "      <td>22.705</td>\n",
              "      <td>0</td>\n",
              "      <td>no</td>\n",
              "      <td>northwest</td>\n",
              "      <td>21984.47061</td>\n",
              "    </tr>\n",
              "    <tr>\n",
              "      <th>4</th>\n",
              "      <td>32</td>\n",
              "      <td>male</td>\n",
              "      <td>28.880</td>\n",
              "      <td>0</td>\n",
              "      <td>no</td>\n",
              "      <td>northwest</td>\n",
              "      <td>3866.85520</td>\n",
              "    </tr>\n",
              "  </tbody>\n",
              "</table>\n",
              "</div>\n",
              "      <button class=\"colab-df-convert\" onclick=\"convertToInteractive('df-3ff016c9-26dd-45e4-b29d-aea3b4b66f0e')\"\n",
              "              title=\"Convert this dataframe to an interactive table.\"\n",
              "              style=\"display:none;\">\n",
              "        \n",
              "  <svg xmlns=\"http://www.w3.org/2000/svg\" height=\"24px\"viewBox=\"0 0 24 24\"\n",
              "       width=\"24px\">\n",
              "    <path d=\"M0 0h24v24H0V0z\" fill=\"none\"/>\n",
              "    <path d=\"M18.56 5.44l.94 2.06.94-2.06 2.06-.94-2.06-.94-.94-2.06-.94 2.06-2.06.94zm-11 1L8.5 8.5l.94-2.06 2.06-.94-2.06-.94L8.5 2.5l-.94 2.06-2.06.94zm10 10l.94 2.06.94-2.06 2.06-.94-2.06-.94-.94-2.06-.94 2.06-2.06.94z\"/><path d=\"M17.41 7.96l-1.37-1.37c-.4-.4-.92-.59-1.43-.59-.52 0-1.04.2-1.43.59L10.3 9.45l-7.72 7.72c-.78.78-.78 2.05 0 2.83L4 21.41c.39.39.9.59 1.41.59.51 0 1.02-.2 1.41-.59l7.78-7.78 2.81-2.81c.8-.78.8-2.07 0-2.86zM5.41 20L4 18.59l7.72-7.72 1.47 1.35L5.41 20z\"/>\n",
              "  </svg>\n",
              "      </button>\n",
              "      \n",
              "  <style>\n",
              "    .colab-df-container {\n",
              "      display:flex;\n",
              "      flex-wrap:wrap;\n",
              "      gap: 12px;\n",
              "    }\n",
              "\n",
              "    .colab-df-convert {\n",
              "      background-color: #E8F0FE;\n",
              "      border: none;\n",
              "      border-radius: 50%;\n",
              "      cursor: pointer;\n",
              "      display: none;\n",
              "      fill: #1967D2;\n",
              "      height: 32px;\n",
              "      padding: 0 0 0 0;\n",
              "      width: 32px;\n",
              "    }\n",
              "\n",
              "    .colab-df-convert:hover {\n",
              "      background-color: #E2EBFA;\n",
              "      box-shadow: 0px 1px 2px rgba(60, 64, 67, 0.3), 0px 1px 3px 1px rgba(60, 64, 67, 0.15);\n",
              "      fill: #174EA6;\n",
              "    }\n",
              "\n",
              "    [theme=dark] .colab-df-convert {\n",
              "      background-color: #3B4455;\n",
              "      fill: #D2E3FC;\n",
              "    }\n",
              "\n",
              "    [theme=dark] .colab-df-convert:hover {\n",
              "      background-color: #434B5C;\n",
              "      box-shadow: 0px 1px 3px 1px rgba(0, 0, 0, 0.15);\n",
              "      filter: drop-shadow(0px 1px 2px rgba(0, 0, 0, 0.3));\n",
              "      fill: #FFFFFF;\n",
              "    }\n",
              "  </style>\n",
              "\n",
              "      <script>\n",
              "        const buttonEl =\n",
              "          document.querySelector('#df-3ff016c9-26dd-45e4-b29d-aea3b4b66f0e button.colab-df-convert');\n",
              "        buttonEl.style.display =\n",
              "          google.colab.kernel.accessAllowed ? 'block' : 'none';\n",
              "\n",
              "        async function convertToInteractive(key) {\n",
              "          const element = document.querySelector('#df-3ff016c9-26dd-45e4-b29d-aea3b4b66f0e');\n",
              "          const dataTable =\n",
              "            await google.colab.kernel.invokeFunction('convertToInteractive',\n",
              "                                                     [key], {});\n",
              "          if (!dataTable) return;\n",
              "\n",
              "          const docLinkHtml = 'Like what you see? Visit the ' +\n",
              "            '<a target=\"_blank\" href=https://colab.research.google.com/notebooks/data_table.ipynb>data table notebook</a>'\n",
              "            + ' to learn more about interactive tables.';\n",
              "          element.innerHTML = '';\n",
              "          dataTable['output_type'] = 'display_data';\n",
              "          await google.colab.output.renderOutput(dataTable, element);\n",
              "          const docLink = document.createElement('div');\n",
              "          docLink.innerHTML = docLinkHtml;\n",
              "          element.appendChild(docLink);\n",
              "        }\n",
              "      </script>\n",
              "    </div>\n",
              "  </div>\n",
              "  "
            ],
            "text/plain": [
              "   age     sex     bmi  children smoker     region      charges\n",
              "0   19  female  27.900         0    yes  southwest  16884.92400\n",
              "1   18    male  33.770         1     no  southeast   1725.55230\n",
              "2   28    male  33.000         3     no  southeast   4449.46200\n",
              "3   33    male  22.705         0     no  northwest  21984.47061\n",
              "4   32    male  28.880         0     no  northwest   3866.85520"
            ]
          },
          "metadata": {},
          "execution_count": 5
        }
      ]
    },
    {
      "cell_type": "code",
      "source": [
        "df.tail()"
      ],
      "metadata": {
        "colab": {
          "base_uri": "https://localhost:8080/",
          "height": 206
        },
        "id": "yhytjfv4rpYd",
        "outputId": "99dcd1c9-d8c3-4085-84c6-ca726052a7e6"
      },
      "execution_count": null,
      "outputs": [
        {
          "output_type": "execute_result",
          "data": {
            "text/html": [
              "\n",
              "  <div id=\"df-9f80e722-f34a-4b3a-a486-9cac714db47b\">\n",
              "    <div class=\"colab-df-container\">\n",
              "      <div>\n",
              "<style scoped>\n",
              "    .dataframe tbody tr th:only-of-type {\n",
              "        vertical-align: middle;\n",
              "    }\n",
              "\n",
              "    .dataframe tbody tr th {\n",
              "        vertical-align: top;\n",
              "    }\n",
              "\n",
              "    .dataframe thead th {\n",
              "        text-align: right;\n",
              "    }\n",
              "</style>\n",
              "<table border=\"1\" class=\"dataframe\">\n",
              "  <thead>\n",
              "    <tr style=\"text-align: right;\">\n",
              "      <th></th>\n",
              "      <th>age</th>\n",
              "      <th>sex</th>\n",
              "      <th>bmi</th>\n",
              "      <th>children</th>\n",
              "      <th>smoker</th>\n",
              "      <th>region</th>\n",
              "      <th>charges</th>\n",
              "    </tr>\n",
              "  </thead>\n",
              "  <tbody>\n",
              "    <tr>\n",
              "      <th>1333</th>\n",
              "      <td>50</td>\n",
              "      <td>male</td>\n",
              "      <td>30.97</td>\n",
              "      <td>3</td>\n",
              "      <td>no</td>\n",
              "      <td>northwest</td>\n",
              "      <td>10600.5483</td>\n",
              "    </tr>\n",
              "    <tr>\n",
              "      <th>1334</th>\n",
              "      <td>18</td>\n",
              "      <td>female</td>\n",
              "      <td>31.92</td>\n",
              "      <td>0</td>\n",
              "      <td>no</td>\n",
              "      <td>northeast</td>\n",
              "      <td>2205.9808</td>\n",
              "    </tr>\n",
              "    <tr>\n",
              "      <th>1335</th>\n",
              "      <td>18</td>\n",
              "      <td>female</td>\n",
              "      <td>36.85</td>\n",
              "      <td>0</td>\n",
              "      <td>no</td>\n",
              "      <td>southeast</td>\n",
              "      <td>1629.8335</td>\n",
              "    </tr>\n",
              "    <tr>\n",
              "      <th>1336</th>\n",
              "      <td>21</td>\n",
              "      <td>female</td>\n",
              "      <td>25.80</td>\n",
              "      <td>0</td>\n",
              "      <td>no</td>\n",
              "      <td>southwest</td>\n",
              "      <td>2007.9450</td>\n",
              "    </tr>\n",
              "    <tr>\n",
              "      <th>1337</th>\n",
              "      <td>61</td>\n",
              "      <td>female</td>\n",
              "      <td>29.07</td>\n",
              "      <td>0</td>\n",
              "      <td>yes</td>\n",
              "      <td>northwest</td>\n",
              "      <td>29141.3603</td>\n",
              "    </tr>\n",
              "  </tbody>\n",
              "</table>\n",
              "</div>\n",
              "      <button class=\"colab-df-convert\" onclick=\"convertToInteractive('df-9f80e722-f34a-4b3a-a486-9cac714db47b')\"\n",
              "              title=\"Convert this dataframe to an interactive table.\"\n",
              "              style=\"display:none;\">\n",
              "        \n",
              "  <svg xmlns=\"http://www.w3.org/2000/svg\" height=\"24px\"viewBox=\"0 0 24 24\"\n",
              "       width=\"24px\">\n",
              "    <path d=\"M0 0h24v24H0V0z\" fill=\"none\"/>\n",
              "    <path d=\"M18.56 5.44l.94 2.06.94-2.06 2.06-.94-2.06-.94-.94-2.06-.94 2.06-2.06.94zm-11 1L8.5 8.5l.94-2.06 2.06-.94-2.06-.94L8.5 2.5l-.94 2.06-2.06.94zm10 10l.94 2.06.94-2.06 2.06-.94-2.06-.94-.94-2.06-.94 2.06-2.06.94z\"/><path d=\"M17.41 7.96l-1.37-1.37c-.4-.4-.92-.59-1.43-.59-.52 0-1.04.2-1.43.59L10.3 9.45l-7.72 7.72c-.78.78-.78 2.05 0 2.83L4 21.41c.39.39.9.59 1.41.59.51 0 1.02-.2 1.41-.59l7.78-7.78 2.81-2.81c.8-.78.8-2.07 0-2.86zM5.41 20L4 18.59l7.72-7.72 1.47 1.35L5.41 20z\"/>\n",
              "  </svg>\n",
              "      </button>\n",
              "      \n",
              "  <style>\n",
              "    .colab-df-container {\n",
              "      display:flex;\n",
              "      flex-wrap:wrap;\n",
              "      gap: 12px;\n",
              "    }\n",
              "\n",
              "    .colab-df-convert {\n",
              "      background-color: #E8F0FE;\n",
              "      border: none;\n",
              "      border-radius: 50%;\n",
              "      cursor: pointer;\n",
              "      display: none;\n",
              "      fill: #1967D2;\n",
              "      height: 32px;\n",
              "      padding: 0 0 0 0;\n",
              "      width: 32px;\n",
              "    }\n",
              "\n",
              "    .colab-df-convert:hover {\n",
              "      background-color: #E2EBFA;\n",
              "      box-shadow: 0px 1px 2px rgba(60, 64, 67, 0.3), 0px 1px 3px 1px rgba(60, 64, 67, 0.15);\n",
              "      fill: #174EA6;\n",
              "    }\n",
              "\n",
              "    [theme=dark] .colab-df-convert {\n",
              "      background-color: #3B4455;\n",
              "      fill: #D2E3FC;\n",
              "    }\n",
              "\n",
              "    [theme=dark] .colab-df-convert:hover {\n",
              "      background-color: #434B5C;\n",
              "      box-shadow: 0px 1px 3px 1px rgba(0, 0, 0, 0.15);\n",
              "      filter: drop-shadow(0px 1px 2px rgba(0, 0, 0, 0.3));\n",
              "      fill: #FFFFFF;\n",
              "    }\n",
              "  </style>\n",
              "\n",
              "      <script>\n",
              "        const buttonEl =\n",
              "          document.querySelector('#df-9f80e722-f34a-4b3a-a486-9cac714db47b button.colab-df-convert');\n",
              "        buttonEl.style.display =\n",
              "          google.colab.kernel.accessAllowed ? 'block' : 'none';\n",
              "\n",
              "        async function convertToInteractive(key) {\n",
              "          const element = document.querySelector('#df-9f80e722-f34a-4b3a-a486-9cac714db47b');\n",
              "          const dataTable =\n",
              "            await google.colab.kernel.invokeFunction('convertToInteractive',\n",
              "                                                     [key], {});\n",
              "          if (!dataTable) return;\n",
              "\n",
              "          const docLinkHtml = 'Like what you see? Visit the ' +\n",
              "            '<a target=\"_blank\" href=https://colab.research.google.com/notebooks/data_table.ipynb>data table notebook</a>'\n",
              "            + ' to learn more about interactive tables.';\n",
              "          element.innerHTML = '';\n",
              "          dataTable['output_type'] = 'display_data';\n",
              "          await google.colab.output.renderOutput(dataTable, element);\n",
              "          const docLink = document.createElement('div');\n",
              "          docLink.innerHTML = docLinkHtml;\n",
              "          element.appendChild(docLink);\n",
              "        }\n",
              "      </script>\n",
              "    </div>\n",
              "  </div>\n",
              "  "
            ],
            "text/plain": [
              "      age     sex    bmi  children smoker     region     charges\n",
              "1333   50    male  30.97         3     no  northwest  10600.5483\n",
              "1334   18  female  31.92         0     no  northeast   2205.9808\n",
              "1335   18  female  36.85         0     no  southeast   1629.8335\n",
              "1336   21  female  25.80         0     no  southwest   2007.9450\n",
              "1337   61  female  29.07         0    yes  northwest  29141.3603"
            ]
          },
          "metadata": {},
          "execution_count": 6
        }
      ]
    },
    {
      "cell_type": "markdown",
      "source": [
        "Check the n's"
      ],
      "metadata": {
        "id": "aeLv7IhVvYp9"
      }
    },
    {
      "cell_type": "markdown",
      "source": [
        "Should only have Males/Females with a relatively similar distribution of each."
      ],
      "metadata": {
        "id": "s2vqTJHYvbvu"
      }
    },
    {
      "cell_type": "code",
      "source": [
        "df['sex'].value_counts()"
      ],
      "metadata": {
        "colab": {
          "base_uri": "https://localhost:8080/"
        },
        "id": "RgF_nh8xvegs",
        "outputId": "b2891091-e4c9-4479-d158-dfb7a07f534a"
      },
      "execution_count": null,
      "outputs": [
        {
          "output_type": "execute_result",
          "data": {
            "text/plain": [
              "male      676\n",
              "female    662\n",
              "Name: sex, dtype: int64"
            ]
          },
          "metadata": {},
          "execution_count": 7
        }
      ]
    },
    {
      "cell_type": "markdown",
      "source": [
        "Regions should all sum to similar amounts"
      ],
      "metadata": {
        "id": "pThV0ohxtK7Z"
      }
    },
    {
      "cell_type": "code",
      "source": [
        "northeast_region_df = df[df['region'] == \"northeast\"]\n",
        "northwest_region_df = df[df['region'] == \"northwest\"]\n",
        "southeast_region_df = df[df['region'] == \"southeast\"]\n",
        "southwest_region_df = df[df['region'] == \"southwest\"]\n",
        "print(\"Northeast Sum: \" '${0:,}'.format(northeast_region_df['charges'].sum()))\n",
        "print(\"Northwest Sum: \" '${0:,}'.format(northwest_region_df['charges'].sum()))\n",
        "print(\"Southeast Sum: \" '${0:,}'.format(southeast_region_df['charges'].sum()))\n",
        "print(\"Southwest Sum: \" '${0:,}'.format(southwest_region_df['charges'].sum()))"
      ],
      "metadata": {
        "colab": {
          "base_uri": "https://localhost:8080/"
        },
        "id": "VICy8mmkr7GK",
        "outputId": "6351be0f-2b7b-47f4-9e08-a949d0e9ad56"
      },
      "execution_count": null,
      "outputs": [
        {
          "output_type": "stream",
          "name": "stdout",
          "text": [
            "Northeast Sum: $4,343,668.583309\n",
            "Northwest Sum: $4,035,711.9965399997\n",
            "Southeast Sum: $5,363,689.763289999\n",
            "Southwest Sum: $4,012,754.6476200004\n"
          ]
        }
      ]
    },
    {
      "cell_type": "markdown",
      "source": [
        "Southeast's total is an outlier, let's see why"
      ],
      "metadata": {
        "id": "v8Yl4vNW7Gia"
      }
    },
    {
      "cell_type": "code",
      "source": [
        "print(\"Northeast: \") \n",
        "print(northeast_region_df.shape)\n",
        "print(\"Northwest: \") \n",
        "print(northwest_region_df.shape)\n",
        "print(\"Southeast: \") \n",
        "print(southeast_region_df.shape)\n",
        "print(\"Southwest: \") \n",
        "print(southwest_region_df.shape)"
      ],
      "metadata": {
        "colab": {
          "base_uri": "https://localhost:8080/"
        },
        "id": "kAaIzm7o8wII",
        "outputId": "b39916eb-9bcc-492f-e96d-77d95541338e"
      },
      "execution_count": null,
      "outputs": [
        {
          "output_type": "stream",
          "name": "stdout",
          "text": [
            "Northeast: \n",
            "(324, 7)\n",
            "Northwest: \n",
            "(325, 7)\n",
            "Southeast: \n",
            "(364, 7)\n",
            "Southwest: \n",
            "(325, 7)\n"
          ]
        }
      ]
    },
    {
      "cell_type": "markdown",
      "source": [
        "Southeast's higher sum appears to be due to a higher number of entries compared to the other regions. Let's make sure there's nothing else dramitically different between the four geographies. We'll do this by performing an analysis of variance (ANOVA) test on each region with relation to healthcare expense. \n",
        "\n",
        "By default, we hope that the group means are equal (null hypothesis), as this would better support the idea that any price fluctuations in healthcare costs are not bound to the region in which the healhcare services were performed. \n",
        "\n",
        "The other outcome we could see is at least one of the group means is different from the other groups (alternate hypothesis). This would show us that region data with respect to price cannot be discarded. \n",
        "\n",
        "If we can remove this correlation, further tests on the data could better support our hypothesis that BMI causes higher healthcare costs. Otherwise we'll have to take region into account of any further analysis. "
      ],
      "metadata": {
        "id": "XUXnXp9r90wS"
      }
    },
    {
      "cell_type": "code",
      "source": [
        "data = [df['charges'][df['region'] == 'northeast'], \n",
        "        df['charges'][df['region'] == 'northwest'], \n",
        "        df['charges'][df['region'] == 'southeast'],\n",
        "        df['charges'][df['region'] == 'southwest']]\n",
        "\n",
        "#Data is independent and population is large enough to assume normality\n",
        "#Check variance homogeneity\n",
        "\n",
        "fig = plt.figure(figsize = (10,10))\n",
        "ax = fig.add_subplot()\n",
        "\n",
        "ax.set_title(\"Box Plot of Charges by Region\", fontsize = 20)\n",
        "ax.set\n",
        "\n",
        "ax.boxplot(data, labels = ['Northeast', 'Northwest', 'Southeast', 'Southwest'],\n",
        "                            showmeans = True)\n",
        "plt.xlabel(\"Region\")\n",
        "plt.ylabel(\"Healthcare Costs\")\n",
        "plt.show()\n",
        "\n",
        "stats.levene(df['charges'][df['region'] == 'northeast'], \n",
        "             df['charges'][df['region'] == 'northwest'], \n",
        "             df['charges'][df['region'] == 'southeast'],\n",
        "             df['charges'][df['region'] == 'southwest'])"
      ],
      "metadata": {
        "colab": {
          "base_uri": "https://localhost:8080/",
          "height": 699
        },
        "id": "cwbcgy6AIGBB",
        "outputId": "7c1f3769-a54a-434d-fb50-0bf5ba976e0e"
      },
      "execution_count": null,
      "outputs": [
        {
          "output_type": "stream",
          "name": "stderr",
          "text": [
            "/usr/local/lib/python3.7/dist-packages/numpy/core/_asarray.py:83: VisibleDeprecationWarning: Creating an ndarray from ragged nested sequences (which is a list-or-tuple of lists-or-tuples-or ndarrays with different lengths or shapes) is deprecated. If you meant to do this, you must specify 'dtype=object' when creating the ndarray\n",
            "  return array(a, dtype, copy=False, order=order)\n"
          ]
        },
        {
          "output_type": "display_data",
          "data": {
            "image/png": "[encoded data removed]",
            "text/plain": [
              "<Figure size 720x720 with 1 Axes>"
            ]
          },
          "metadata": {
            "needs_background": "light"
          }
        },
        {
          "output_type": "execute_result",
          "data": {
            "text/plain": [
              "LeveneResult(statistic=5.559966758410606, pvalue=0.0008610590250786703)"
            ]
          },
          "metadata": {},
          "execution_count": 37
        }
      ]
    },
    {
      "cell_type": "markdown",
      "source": [
        "After a quick test of variance homogeneity we could not proceed to the ANOVA test, as the pvalue in our region data is clearly much less than 0.05. This indicates that we do not have equal population variances. \n",
        "\n",
        "Southeast remains a strong outlier. Let's repeat our quick homogeneity test without the southeast region."
      ],
      "metadata": {
        "id": "3YWnh4kzOj86"
      }
    },
    {
      "cell_type": "code",
      "source": [
        "stats.levene(df['charges'][df['region'] == 'northeast'], \n",
        "             df['charges'][df['region'] == 'northwest'],\n",
        "             df['charges'][df['region'] == 'southwest'])"
      ],
      "metadata": {
        "colab": {
          "base_uri": "https://localhost:8080/"
        },
        "id": "WZXt6NicPMmx",
        "outputId": "dc19977a-0e2b-4b74-d5fc-d3d307410346"
      },
      "execution_count": null,
      "outputs": [
        {
          "output_type": "execute_result",
          "data": {
            "text/plain": [
              "LeveneResult(statistic=0.08974628654162699, pvalue=0.9141706733642979)"
            ]
          },
          "metadata": {},
          "execution_count": 39
        }
      ]
    },
    {
      "cell_type": "markdown",
      "source": [
        "Performing the test again shows us that the remaining three regions do not have much statistically significant difference in their varability. Let's perform an ANOVA test (now that variance homogeneity has been established) on this dataset without the Southeast. "
      ],
      "metadata": {
        "id": "t_M0RnIpQcqc"
      }
    },
    {
      "cell_type": "code",
      "source": [
        "stats.f_oneway(df['charges'][df['region'] == 'northeast'], \n",
        "               df['charges'][df['region'] == 'northwest'],\n",
        "               df['charges'][df['region'] == 'southwest'])"
      ],
      "metadata": {
        "colab": {
          "base_uri": "https://localhost:8080/"
        },
        "id": "k17Lzr1ePWsl",
        "outputId": "a0d256bf-bf3e-4bf7-af19-ad7a59fd137b"
      },
      "execution_count": null,
      "outputs": [
        {
          "output_type": "execute_result",
          "data": {
            "text/plain": [
              "F_onewayResult(statistic=0.8916812777093581, pvalue=0.4103013304067413)"
            ]
          },
          "metadata": {},
          "execution_count": 41
        }
      ]
    },
    {
      "cell_type": "markdown",
      "source": [
        "Awesome, our F-statistic shows that there is not much variation between the sample means relative to the variation within the samples. Plus, our PValue remains greater than our alpha of 0.05, providing sufficient evidence to claim there is not much difference between the means of our three regions. \n",
        "\n",
        "We can confidently move forward with this modified dataset to try and isolate healthcare costs associated with BMI. \n"
      ],
      "metadata": {
        "id": "wDAOsrIUUhGc"
      }
    },
    {
      "cell_type": "markdown",
      "source": [
        "Our goal is to target a correlation between bmi and healthcare expenses. In order to remain true to scope, we must make ensure we select age groups that correlate to associated expenses among peers (older people commonly get colonoscopies, while the young do not for example). \n",
        "\n",
        "For us, we will lean on a federally funded study (https://www.ncbi.nlm.nih.gov/pmc/articles/PMC3825015/) that looks at common healthcare risks among the US population. These risks are then broken down into risk categories based on age. Nine age groups were defined with the following ranges: 0–2, 3–5, 6–13, 14–18, 19–33, 34–48, 49–64, 65–78, and 79–98 years. \n",
        "\n",
        "\n",
        "With the data we have, we will use the age categories 18-33, 34-48, and 49-65 in an attempt to isolate age-related disease factors that could otherwise adversely affect our BMI correlation to health expenses. \n",
        "\n",
        "We will also isolate our categories by sex, as the median BMI values for men are approximately 24.5 kg/m2 and 21.5 kg/m2 for women. (https://pubmed.ncbi.nlm.nih.gov/16189499/)"
      ],
      "metadata": {
        "id": "ytGVmsBrZe_k"
      }
    },
    {
      "cell_type": "markdown",
      "source": [
        "Here we'll isolate our Non-Smoking Males and Females between the ages of 18-33, 34-48, and 49-65 everywhere but the southeast."
      ],
      "metadata": {
        "id": "N6bf5JoEnVZJ"
      }
    },
    {
      "cell_type": "code",
      "source": [
        "young_female = (df.loc[(df['sex'] == \"female\") & (df['smoker'] == \"no\") & (df['age'] >= 18) & (df['age'] <= 33) & \n",
        "               (df['region'] != \"southeast\")])\n",
        "young_male = (df.loc[(df['sex'] == \"male\") & (df['smoker'] == \"no\") & (df['age'] >= 18) & (df['age'] <= 33) & \n",
        "               (df['region'] != \"southeast\")])\n",
        "\n",
        "print(\"Number of Females between 18-33:\")\n",
        "print(young_female.shape)\n",
        "print(\"Number of Males between 18-33:\")\n",
        "print(young_male.shape)\n",
        "print()\n",
        "\n",
        "middle_female = (df.loc[(df['sex'] == \"female\") & (df['smoker'] == \"no\") & (df['age'] >= 34) & (df['age'] <= 48) & \n",
        "               (df['region'] != \"southeast\")])\n",
        "middle_male = (df.loc[(df['sex'] == \"male\") & (df['smoker'] == \"no\") & (df['age'] >= 34) & (df['age'] <= 48) & \n",
        "               (df['region'] != \"southeast\")])\n",
        "\n",
        "print(\"Number of Females between 34-48:\")\n",
        "print(middle_female.shape)\n",
        "print(\"Number of Males between 34-48:\")\n",
        "print(middle_male.shape)\n",
        "print()\n",
        "\n",
        "\n",
        "old_female = (df.loc[(df['sex'] == \"female\") & (df['smoker'] == \"no\") & (df['age'] >= 49) & (df['age'] <= 65) & \n",
        "               (df['region'] != \"southeast\")])\n",
        "old_male = (df.loc[(df['sex'] == \"male\") & (df['smoker'] == \"no\") & (df['age'] >= 49) & (df['age'] <= 65) & \n",
        "               (df['region'] != \"southeast\")])\n",
        "\n",
        "print(\"Number of Females between 49-65:\")\n",
        "print(old_female.shape)\n",
        "print(\"Number of Males between 49-65:\")\n",
        "print(old_male.shape)"
      ],
      "metadata": {
        "colab": {
          "base_uri": "https://localhost:8080/"
        },
        "id": "d0SjoCVQnbA5",
        "outputId": "2f2d7c35-40c1-46e2-b1e3-4104a2d38f7b"
      },
      "execution_count": null,
      "outputs": [
        {
          "output_type": "stream",
          "name": "stdout",
          "text": [
            "Number of Females between 18-33:\n",
            "(152, 7)\n",
            "Number of Males between 18-33:\n",
            "(148, 7)\n",
            "\n",
            "Number of Females between 34-48:\n",
            "(119, 7)\n",
            "Number of Males between 34-48:\n",
            "(114, 7)\n",
            "\n",
            "Number of Females between 49-65:\n",
            "(137, 7)\n",
            "Number of Males between 49-65:\n",
            "(121, 7)\n"
          ]
        }
      ]
    },
    {
      "cell_type": "markdown",
      "source": [
        "##Young People\n",
        "\n",
        "Among young people, there doesn't seem to be much correlation in BMI and healthcare expenses irrespective of sex. While there is a positive indication, it isn't statistically significant."
      ],
      "metadata": {
        "id": "f9Y1JbUwpbNa"
      }
    },
    {
      "cell_type": "code",
      "source": [
        "youth_f = young_female.drop(columns = ['children', 'age', 'smoker', 'region', 'sex'])\n",
        "youth_f.corr().style.background_gradient(cmap = \"GnBu\")"
      ],
      "metadata": {
        "colab": {
          "base_uri": "https://localhost:8080/",
          "height": 112
        },
        "id": "9e9xBwVWlS9g",
        "outputId": "2bf22693-0349-4634-cb8d-36c985fb1d81"
      },
      "execution_count": null,
      "outputs": [
        {
          "output_type": "execute_result",
          "data": {
            "text/html": [
              "<style  type=\"text/css\" >\n",
              "#T_4cdaebae_82cd_11ec_b297_0242ac1c0002row0_col0,#T_4cdaebae_82cd_11ec_b297_0242ac1c0002row1_col1{\n",
              "            background-color:  #084081;\n",
              "            color:  #f1f1f1;\n",
              "        }#T_4cdaebae_82cd_11ec_b297_0242ac1c0002row0_col1,#T_4cdaebae_82cd_11ec_b297_0242ac1c0002row1_col0{\n",
              "            background-color:  #f7fcf0;\n",
              "            color:  #000000;\n",
              "        }</style><table id=\"T_4cdaebae_82cd_11ec_b297_0242ac1c0002\" class=\"dataframe\"><thead>    <tr>        <th class=\"blank level0\" ></th>        <th class=\"col_heading level0 col0\" >bmi</th>        <th class=\"col_heading level0 col1\" >charges</th>    </tr></thead><tbody>\n",
              "                <tr>\n",
              "                        <th id=\"T_4cdaebae_82cd_11ec_b297_0242ac1c0002level0_row0\" class=\"row_heading level0 row0\" >bmi</th>\n",
              "                        <td id=\"T_4cdaebae_82cd_11ec_b297_0242ac1c0002row0_col0\" class=\"data row0 col0\" >1.000000</td>\n",
              "                        <td id=\"T_4cdaebae_82cd_11ec_b297_0242ac1c0002row0_col1\" class=\"data row0 col1\" >0.036110</td>\n",
              "            </tr>\n",
              "            <tr>\n",
              "                        <th id=\"T_4cdaebae_82cd_11ec_b297_0242ac1c0002level0_row1\" class=\"row_heading level0 row1\" >charges</th>\n",
              "                        <td id=\"T_4cdaebae_82cd_11ec_b297_0242ac1c0002row1_col0\" class=\"data row1 col0\" >0.036110</td>\n",
              "                        <td id=\"T_4cdaebae_82cd_11ec_b297_0242ac1c0002row1_col1\" class=\"data row1 col1\" >1.000000</td>\n",
              "            </tr>\n",
              "    </tbody></table>"
            ],
            "text/plain": [
              "<pandas.io.formats.style.Styler at 0x7ff0a9fdb590>"
            ]
          },
          "metadata": {},
          "execution_count": 75
        }
      ]
    },
    {
      "cell_type": "code",
      "source": [
        "youth_m = young_male.drop(columns = ['children', 'age', 'smoker', 'region', 'sex'])\n",
        "youth_m.corr().style.background_gradient(cmap = \"GnBu\")"
      ],
      "metadata": {
        "colab": {
          "base_uri": "https://localhost:8080/",
          "height": 112
        },
        "id": "6QInt3F5pM9I",
        "outputId": "c633ac93-f3a8-4f1a-d898-9c845e50ceb8"
      },
      "execution_count": null,
      "outputs": [
        {
          "output_type": "execute_result",
          "data": {
            "text/html": [
              "<style  type=\"text/css\" >\n",
              "#T_5b7344e0_82cd_11ec_b297_0242ac1c0002row0_col0,#T_5b7344e0_82cd_11ec_b297_0242ac1c0002row1_col1{\n",
              "            background-color:  #084081;\n",
              "            color:  #f1f1f1;\n",
              "        }#T_5b7344e0_82cd_11ec_b297_0242ac1c0002row0_col1,#T_5b7344e0_82cd_11ec_b297_0242ac1c0002row1_col0{\n",
              "            background-color:  #f7fcf0;\n",
              "            color:  #000000;\n",
              "        }</style><table id=\"T_5b7344e0_82cd_11ec_b297_0242ac1c0002\" class=\"dataframe\"><thead>    <tr>        <th class=\"blank level0\" ></th>        <th class=\"col_heading level0 col0\" >bmi</th>        <th class=\"col_heading level0 col1\" >charges</th>    </tr></thead><tbody>\n",
              "                <tr>\n",
              "                        <th id=\"T_5b7344e0_82cd_11ec_b297_0242ac1c0002level0_row0\" class=\"row_heading level0 row0\" >bmi</th>\n",
              "                        <td id=\"T_5b7344e0_82cd_11ec_b297_0242ac1c0002row0_col0\" class=\"data row0 col0\" >1.000000</td>\n",
              "                        <td id=\"T_5b7344e0_82cd_11ec_b297_0242ac1c0002row0_col1\" class=\"data row0 col1\" >0.085902</td>\n",
              "            </tr>\n",
              "            <tr>\n",
              "                        <th id=\"T_5b7344e0_82cd_11ec_b297_0242ac1c0002level0_row1\" class=\"row_heading level0 row1\" >charges</th>\n",
              "                        <td id=\"T_5b7344e0_82cd_11ec_b297_0242ac1c0002row1_col0\" class=\"data row1 col0\" >0.085902</td>\n",
              "                        <td id=\"T_5b7344e0_82cd_11ec_b297_0242ac1c0002row1_col1\" class=\"data row1 col1\" >1.000000</td>\n",
              "            </tr>\n",
              "    </tbody></table>"
            ],
            "text/plain": [
              "<pandas.io.formats.style.Styler at 0x7ff0a9f7cd50>"
            ]
          },
          "metadata": {},
          "execution_count": 76
        }
      ]
    },
    {
      "cell_type": "markdown",
      "source": [
        "##Middle-Aged People\n",
        "\n",
        "Among the middle-aged. Interesting to note, there is a 5x correlation increase of BMI and healthcare expenses among females compared to the young female age group.\n",
        "\n",
        "For men, the correlation seems to go down as middle age is reached. \n",
        "\n",
        "Overall correlation however still remains statistically insignificant."
      ],
      "metadata": {
        "id": "PxMiGkl9p44S"
      }
    },
    {
      "cell_type": "code",
      "source": [
        "middle_f = middle_female.drop(columns = ['children', 'age', 'smoker', 'region', 'sex'])\n",
        "middle_f.corr().style.background_gradient(cmap = \"GnBu\")"
      ],
      "metadata": {
        "colab": {
          "base_uri": "https://localhost:8080/",
          "height": 112
        },
        "id": "VDmrdRzHp_uD",
        "outputId": "bd0a534c-6cc0-4e09-9bbc-17db66d287b0"
      },
      "execution_count": null,
      "outputs": [
        {
          "output_type": "execute_result",
          "data": {
            "text/html": [
              "<style  type=\"text/css\" >\n",
              "#T_db71455c_82cd_11ec_b297_0242ac1c0002row0_col0,#T_db71455c_82cd_11ec_b297_0242ac1c0002row1_col1{\n",
              "            background-color:  #084081;\n",
              "            color:  #f1f1f1;\n",
              "        }#T_db71455c_82cd_11ec_b297_0242ac1c0002row0_col1,#T_db71455c_82cd_11ec_b297_0242ac1c0002row1_col0{\n",
              "            background-color:  #f7fcf0;\n",
              "            color:  #000000;\n",
              "        }</style><table id=\"T_db71455c_82cd_11ec_b297_0242ac1c0002\" class=\"dataframe\"><thead>    <tr>        <th class=\"blank level0\" ></th>        <th class=\"col_heading level0 col0\" >bmi</th>        <th class=\"col_heading level0 col1\" >charges</th>    </tr></thead><tbody>\n",
              "                <tr>\n",
              "                        <th id=\"T_db71455c_82cd_11ec_b297_0242ac1c0002level0_row0\" class=\"row_heading level0 row0\" >bmi</th>\n",
              "                        <td id=\"T_db71455c_82cd_11ec_b297_0242ac1c0002row0_col0\" class=\"data row0 col0\" >1.000000</td>\n",
              "                        <td id=\"T_db71455c_82cd_11ec_b297_0242ac1c0002row0_col1\" class=\"data row0 col1\" >0.179494</td>\n",
              "            </tr>\n",
              "            <tr>\n",
              "                        <th id=\"T_db71455c_82cd_11ec_b297_0242ac1c0002level0_row1\" class=\"row_heading level0 row1\" >charges</th>\n",
              "                        <td id=\"T_db71455c_82cd_11ec_b297_0242ac1c0002row1_col0\" class=\"data row1 col0\" >0.179494</td>\n",
              "                        <td id=\"T_db71455c_82cd_11ec_b297_0242ac1c0002row1_col1\" class=\"data row1 col1\" >1.000000</td>\n",
              "            </tr>\n",
              "    </tbody></table>"
            ],
            "text/plain": [
              "<pandas.io.formats.style.Styler at 0x7ff0aa1a6690>"
            ]
          },
          "metadata": {},
          "execution_count": 77
        }
      ]
    },
    {
      "cell_type": "code",
      "source": [
        "middle_m = middle_male.drop(columns = ['children', 'age', 'smoker', 'region', 'sex'])\n",
        "middle_m.corr().style.background_gradient(cmap = \"GnBu\")"
      ],
      "metadata": {
        "colab": {
          "base_uri": "https://localhost:8080/",
          "height": 112
        },
        "id": "jVqINr9IqO4Z",
        "outputId": "2693ffd3-d449-49f1-f216-c3ec09b0a95e"
      },
      "execution_count": null,
      "outputs": [
        {
          "output_type": "execute_result",
          "data": {
            "text/html": [
              "<style  type=\"text/css\" >\n",
              "#T_f9274af6_82cd_11ec_b297_0242ac1c0002row0_col0,#T_f9274af6_82cd_11ec_b297_0242ac1c0002row1_col1{\n",
              "            background-color:  #084081;\n",
              "            color:  #f1f1f1;\n",
              "        }#T_f9274af6_82cd_11ec_b297_0242ac1c0002row0_col1,#T_f9274af6_82cd_11ec_b297_0242ac1c0002row1_col0{\n",
              "            background-color:  #f7fcf0;\n",
              "            color:  #000000;\n",
              "        }</style><table id=\"T_f9274af6_82cd_11ec_b297_0242ac1c0002\" class=\"dataframe\"><thead>    <tr>        <th class=\"blank level0\" ></th>        <th class=\"col_heading level0 col0\" >bmi</th>        <th class=\"col_heading level0 col1\" >charges</th>    </tr></thead><tbody>\n",
              "                <tr>\n",
              "                        <th id=\"T_f9274af6_82cd_11ec_b297_0242ac1c0002level0_row0\" class=\"row_heading level0 row0\" >bmi</th>\n",
              "                        <td id=\"T_f9274af6_82cd_11ec_b297_0242ac1c0002row0_col0\" class=\"data row0 col0\" >1.000000</td>\n",
              "                        <td id=\"T_f9274af6_82cd_11ec_b297_0242ac1c0002row0_col1\" class=\"data row0 col1\" >0.020289</td>\n",
              "            </tr>\n",
              "            <tr>\n",
              "                        <th id=\"T_f9274af6_82cd_11ec_b297_0242ac1c0002level0_row1\" class=\"row_heading level0 row1\" >charges</th>\n",
              "                        <td id=\"T_f9274af6_82cd_11ec_b297_0242ac1c0002row1_col0\" class=\"data row1 col0\" >0.020289</td>\n",
              "                        <td id=\"T_f9274af6_82cd_11ec_b297_0242ac1c0002row1_col1\" class=\"data row1 col1\" >1.000000</td>\n",
              "            </tr>\n",
              "    </tbody></table>"
            ],
            "text/plain": [
              "<pandas.io.formats.style.Styler at 0x7ff0a9f0e8d0>"
            ]
          },
          "metadata": {},
          "execution_count": 78
        }
      ]
    },
    {
      "cell_type": "markdown",
      "source": [
        "##Older People\n",
        "\n",
        "Among older people BMI correlations to healthcare expenses remain insignificant. Both males and females see their BMI correlations drop from middle to old age."
      ],
      "metadata": {
        "id": "rUER_jSbr2rm"
      }
    },
    {
      "cell_type": "code",
      "source": [
        "old_f = old_female.drop(columns = ['children', 'age', 'smoker', 'region', 'sex'])\n",
        "old_f.corr().style.background_gradient(cmap = \"GnBu\")"
      ],
      "metadata": {
        "colab": {
          "base_uri": "https://localhost:8080/",
          "height": 112
        },
        "id": "GrJUyjStr5cL",
        "outputId": "5afff9f5-dbc6-4d60-d34a-69ac943808cc"
      },
      "execution_count": null,
      "outputs": [
        {
          "output_type": "execute_result",
          "data": {
            "text/html": [
              "<style  type=\"text/css\" >\n",
              "#T_fc501572_82ce_11ec_b297_0242ac1c0002row0_col0,#T_fc501572_82ce_11ec_b297_0242ac1c0002row1_col1{\n",
              "            background-color:  #084081;\n",
              "            color:  #f1f1f1;\n",
              "        }#T_fc501572_82ce_11ec_b297_0242ac1c0002row0_col1,#T_fc501572_82ce_11ec_b297_0242ac1c0002row1_col0{\n",
              "            background-color:  #f7fcf0;\n",
              "            color:  #000000;\n",
              "        }</style><table id=\"T_fc501572_82ce_11ec_b297_0242ac1c0002\" class=\"dataframe\"><thead>    <tr>        <th class=\"blank level0\" ></th>        <th class=\"col_heading level0 col0\" >bmi</th>        <th class=\"col_heading level0 col1\" >charges</th>    </tr></thead><tbody>\n",
              "                <tr>\n",
              "                        <th id=\"T_fc501572_82ce_11ec_b297_0242ac1c0002level0_row0\" class=\"row_heading level0 row0\" >bmi</th>\n",
              "                        <td id=\"T_fc501572_82ce_11ec_b297_0242ac1c0002row0_col0\" class=\"data row0 col0\" >1.000000</td>\n",
              "                        <td id=\"T_fc501572_82ce_11ec_b297_0242ac1c0002row0_col1\" class=\"data row0 col1\" >0.068358</td>\n",
              "            </tr>\n",
              "            <tr>\n",
              "                        <th id=\"T_fc501572_82ce_11ec_b297_0242ac1c0002level0_row1\" class=\"row_heading level0 row1\" >charges</th>\n",
              "                        <td id=\"T_fc501572_82ce_11ec_b297_0242ac1c0002row1_col0\" class=\"data row1 col0\" >0.068358</td>\n",
              "                        <td id=\"T_fc501572_82ce_11ec_b297_0242ac1c0002row1_col1\" class=\"data row1 col1\" >1.000000</td>\n",
              "            </tr>\n",
              "    </tbody></table>"
            ],
            "text/plain": [
              "<pandas.io.formats.style.Styler at 0x7ff0aa7fadd0>"
            ]
          },
          "metadata": {},
          "execution_count": 79
        }
      ]
    },
    {
      "cell_type": "code",
      "source": [
        "old_m = old_male.drop(columns = ['children', 'age', 'smoker', 'region', 'sex'])\n",
        "old_m.corr().style.background_gradient(cmap = \"GnBu\")"
      ],
      "metadata": {
        "colab": {
          "base_uri": "https://localhost:8080/",
          "height": 112
        },
        "id": "UZkDc5TgsH4y",
        "outputId": "13641ee0-45d0-4727-f01d-3db18321eecd"
      },
      "execution_count": null,
      "outputs": [
        {
          "output_type": "execute_result",
          "data": {
            "text/html": [
              "<style  type=\"text/css\" >\n",
              "#T_1aaebad2_82cf_11ec_b297_0242ac1c0002row0_col0,#T_1aaebad2_82cf_11ec_b297_0242ac1c0002row1_col1{\n",
              "            background-color:  #084081;\n",
              "            color:  #f1f1f1;\n",
              "        }#T_1aaebad2_82cf_11ec_b297_0242ac1c0002row0_col1,#T_1aaebad2_82cf_11ec_b297_0242ac1c0002row1_col0{\n",
              "            background-color:  #f7fcf0;\n",
              "            color:  #000000;\n",
              "        }</style><table id=\"T_1aaebad2_82cf_11ec_b297_0242ac1c0002\" class=\"dataframe\"><thead>    <tr>        <th class=\"blank level0\" ></th>        <th class=\"col_heading level0 col0\" >bmi</th>        <th class=\"col_heading level0 col1\" >charges</th>    </tr></thead><tbody>\n",
              "                <tr>\n",
              "                        <th id=\"T_1aaebad2_82cf_11ec_b297_0242ac1c0002level0_row0\" class=\"row_heading level0 row0\" >bmi</th>\n",
              "                        <td id=\"T_1aaebad2_82cf_11ec_b297_0242ac1c0002row0_col0\" class=\"data row0 col0\" >1.000000</td>\n",
              "                        <td id=\"T_1aaebad2_82cf_11ec_b297_0242ac1c0002row0_col1\" class=\"data row0 col1\" >0.082945</td>\n",
              "            </tr>\n",
              "            <tr>\n",
              "                        <th id=\"T_1aaebad2_82cf_11ec_b297_0242ac1c0002level0_row1\" class=\"row_heading level0 row1\" >charges</th>\n",
              "                        <td id=\"T_1aaebad2_82cf_11ec_b297_0242ac1c0002row1_col0\" class=\"data row1 col0\" >0.082945</td>\n",
              "                        <td id=\"T_1aaebad2_82cf_11ec_b297_0242ac1c0002row1_col1\" class=\"data row1 col1\" >1.000000</td>\n",
              "            </tr>\n",
              "    </tbody></table>"
            ],
            "text/plain": [
              "<pandas.io.formats.style.Styler at 0x7ff0a9f37590>"
            ]
          },
          "metadata": {},
          "execution_count": 80
        }
      ]
    },
    {
      "cell_type": "markdown",
      "source": [
        "#Summary\n",
        "\n",
        "In choosing the Health Insurance Costs dataset I wanted to know if we could find some correlation between an individuals Body Mass Index (BMI) and their overall expenditure on healthcare. Logic seems to flow that those with a higher BMI (possibly overweight) would presumably be paying quite a bit more in these costs, as it is assumed they are unhealthy and would therefore need more care. \n",
        "\n",
        "In order to answer this question, I needed to refine the dataset down a bit to better remove any potential conflict in my correlation. Conflicts that came to mind were region, age, and sex. I also removed smokers. There were roughly an equal amount of females to males. I also inspected the sums of each region to see if the totals were roughly the same - they were not.\n",
        "\n",
        "Diving into the regions further, I realized the Southeast had nearly 40 additional entries, which made sense considering I just calculated the sum - it should be larger. Ruling that out, I compared the regions with a boxplot (helpful to see what's going on in the data) and calculated their variance homogeneity which showed unequal population variances. From the boxplot it was clear to see that the Southeast region remained an outlier, so I removed it from the dataset and did the test again - this time establishing relatively equal variances among the three remaining regions.\n",
        "\n",
        "I continued with an analysis of variance test (ANOVA) with the remaining three regions and their association to healthcare costs. The F-Statistic and PValue were not statistically significant, allowing me to press on without worrying that different regions were messing up my BMI - Healthcare Costs correlation.\n",
        "\n",
        "With regions out of the way, I needed to find good data on diseases and how they manifest with respect to age group. A solid federally funded data source allowed me to break-up my data into age categories, better constraining any healthcare costs from age-related diseases to their respective peer groups. \n",
        "\n",
        "I used another federal data source to see if there was any major difference between the average BMI of men and women. There were, so in addition to splitting the data into age groups, I also separated them by sex. \n",
        "\n",
        "My groups were now ready to be analyzed with a correlation coefficient between healthcare expenses and BMI. A correlation coefficient is a number between -1 and 1 that tells you the strength and direction of a relationship between variables, in our case those variables are BMI and Healthcare Costs. \n",
        "\n",
        "I used a simple correlation matrix with a bit of color for visualizing these relationships. If our correlation is very strong or antithetical for example, the color will become much darker. \n",
        "\n",
        "Performing our correlation test over each age group showed us a weak correlation throughout. While it was there and was positive, it was not statistically significant enough to warrant any assumption that a higher BMI definitively increases your liklihood of spending money on healthcare. While it seemed logical to assume, these tests clearly show that is not confidently the case. \n",
        "\n",
        "Lane Zaugg\n",
        "\n",
        "\n"
      ],
      "metadata": {
        "id": "PLekm7HFuMKi"
      }
    }
  ]
}